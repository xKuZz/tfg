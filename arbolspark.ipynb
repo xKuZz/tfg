{
 "cells": [
  {
   "cell_type": "code",
   "execution_count": 1,
   "metadata": {},
   "outputs": [],
   "source": [
    "import numpy as np\n",
    "import cupy as cp\n",
    "import math\n",
    "import miarbol\n",
    "\n",
    "from pyspark.sql import SparkSession\n",
    "spark = SparkSession.builder.master(\"local\").appName(\"tree\").config(\"spark.executor.memory\", \"4gb\").getOrCreate()\n",
    "sc = spark.sparkContext\n"
   ]
  },
  {
   "cell_type": "code",
   "execution_count": 2,
   "metadata": {},
   "outputs": [],
   "source": [
    "\"\"\"\n",
    "Para realizar este modelo cada nodo de spark genera un árbol con una porción de las muestras\n",
    "durante el proceso de entrenamiento.\n",
    "\"\"\"\n",
    "def gpu_rf_spark(d, max_depth, min_samples_per_node, tpb):\n",
    "    def _gpu_work(data):\n",
    "        inp = np.asarray(list(data), dtype=np.float32)\n",
    "        inp = np.reshape(inp, (inp.size // d, d))\n",
    "        model = miarbol.train_decision_tree(inp, max_depth, min_samples_per_node, tpb)\n",
    "        return [model]\n",
    "    \n",
    "    return _gpu_work\n",
    "\n",
    "\n",
    "\n",
    "def train_random_forest(sc, dataset, ntrees=None, max_depth=10, min_samples_per_node=1, tpb=128):\n",
    "    d = dataset.shape[1]\n",
    "    if ntrees is None:\n",
    "        rdd_data = sc.parallelize(dataset)\n",
    "    else:\n",
    "        rdd_data = sc.parallelize(dataset, ntrees)\n",
    "        \n",
    "    rdd_data = rdd_data.mapPartitions(gpu_rf_spark(d, max_depth, min_samples_per_node, tpb))\n",
    "    \n",
    "    return rdd_data.collect()\n",
    "    \n",
    "\"\"\"\n",
    "Una vez entrenados una muestra puede ser evaluada \n",
    "usando todos los árboles generados y cogiendo la\n",
    "clase con voto mayoritario. Esto luego se podría \n",
    "pasa a CUDA para evaluar todas las muestras a la vez\n",
    "de un conjunto si queremos.\n",
    "\"\"\"\n",
    "def predict(sample, trees):\n",
    "    counter = 0\n",
    "    for tree in trees:\n",
    "        counter += miarbol.predict(sample, tree)\n",
    "    \n",
    "    return 1 if counter > len(trees) / 2 else 0\n",
    "\n",
    "def evaluar(dataset, trees):\n",
    "    aciertos = 0\n",
    "    for sample in dataset:\n",
    "        etiqueta = predict(sample, trees)\n",
    "        if int(etiqueta) == int(sample[-1]):\n",
    "            aciertos += 1\n",
    "        \n",
    "    return aciertos / dataset.shape[0]\n"
   ]
  },
  {
   "cell_type": "code",
   "execution_count": 3,
   "metadata": {},
   "outputs": [],
   "source": [
    "dataset = miarbol.getdataset_magic()\n",
    "# Los conjuntos de datos vienen completamente ordenados por clases\n",
    "# Los barajamos de forma aleatoria para que a cada árbol le puedan\n",
    "# corresponder elementos de la clase positiva como de la clase negativa.\n",
    "np.random.seed(40)\n",
    "np.random.shuffle(dataset)"
   ]
  },
  {
   "cell_type": "code",
   "execution_count": 4,
   "metadata": {},
   "outputs": [],
   "source": [
    "trees = train_random_forest(sc, dataset, ntrees=10, max_depth=6)"
   ]
  },
  {
   "cell_type": "code",
   "execution_count": 5,
   "metadata": {},
   "outputs": [
    {
     "name": "stdout",
     "output_type": "stream",
     "text": [
      "El porcentaje de acierto es del 84.80546792849631 %\n"
     ]
    }
   ],
   "source": [
    "accuracy = evaluar(dataset, trees)\n",
    "print('El porcentaje de acierto es del', accuracy * 100 , '%')"
   ]
  },
  {
   "cell_type": "code",
   "execution_count": null,
   "metadata": {},
   "outputs": [],
   "source": []
  },
  {
   "cell_type": "code",
   "execution_count": null,
   "metadata": {},
   "outputs": [],
   "source": []
  },
  {
   "cell_type": "code",
   "execution_count": null,
   "metadata": {},
   "outputs": [],
   "source": []
  },
  {
   "cell_type": "code",
   "execution_count": null,
   "metadata": {},
   "outputs": [],
   "source": []
  },
  {
   "cell_type": "code",
   "execution_count": null,
   "metadata": {},
   "outputs": [],
   "source": []
  },
  {
   "cell_type": "code",
   "execution_count": null,
   "metadata": {},
   "outputs": [],
   "source": []
  }
 ],
 "metadata": {
  "kernelspec": {
   "display_name": "Python 3",
   "language": "python",
   "name": "python3"
  },
  "language_info": {
   "codemirror_mode": {
    "name": "ipython",
    "version": 3
   },
   "file_extension": ".py",
   "mimetype": "text/x-python",
   "name": "python",
   "nbconvert_exporter": "python",
   "pygments_lexer": "ipython3",
   "version": "3.6.8"
  }
 },
 "nbformat": 4,
 "nbformat_minor": 2
}
