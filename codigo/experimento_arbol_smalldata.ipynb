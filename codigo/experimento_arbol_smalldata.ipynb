{
 "cells": [
  {
   "cell_type": "code",
   "execution_count": 1,
   "metadata": {},
   "outputs": [],
   "source": [
    "import decisiontree_gpu as dtree\n",
    "import numpy as np\n",
    "import pandas as pd\n",
    "import time\n",
    "\n",
    "from pyspark.sql import SparkSession\n",
    "spark = SparkSession.builder.master(\"local\").appName(\"DTREE\").config('spark.executor.memory','6gb').getOrCreate()\n",
    "sc = spark.sparkContext"
   ]
  },
  {
   "cell_type": "code",
   "execution_count": 2,
   "metadata": {},
   "outputs": [],
   "source": [
    "# Cargamos los datasets\n",
    "spambase = np.genfromtxt('../datasets/spambase.data', delimiter=',', dtype=np.float32)\n",
    "magic = np.genfromtxt('../datasets/magic04.data', delimiter=',', dtype=np.float32)"
   ]
  },
  {
   "cell_type": "code",
   "execution_count": 3,
   "metadata": {},
   "outputs": [],
   "source": [
    "\"\"\"\n",
    "El experimento consiste en evaluar ambos dataset para las profundidades de 4 a 10\n",
    "y comparar mi versión en CUDA con la GPU con la versión de Spark en criterios de\n",
    "velocidad y precisión utilizando validación cruzada de 10 folds\n",
    "\"\"\"\n",
    "def validacion_cruzada(dataset, k=10, depth=5, my_min=1):\n",
    "    n = dataset.shape[0]\n",
    "    tam = n // k\n",
    "    samples_test = []\n",
    "\n",
    "    \n",
    "    x = np.arange(n)\n",
    "    for i in range(k):\n",
    "        np.random.seed(i)\n",
    "        samples_test.append(np.random.choice(x, tam, replace=False))\n",
    "        \n",
    "                \n",
    "    times = np.zeros(k, np.float32)\n",
    "    accuracy = np.zeros(k, np.float32)\n",
    "    all_indexes = np.arange(n)\n",
    "    for i in range(k):\n",
    "        samples_train = np.delete(all_indexes, samples_test[i])\n",
    "        inicio = time.time()\n",
    "        model = dtree.train_tree(np.ascontiguousarray(dataset[samples_train]), depth, my_min)\n",
    "        fin = time.time()\n",
    "        times[i] = fin-inicio\n",
    "        accuracy[i] = dtree.evaluar(dataset[samples_test[i]], model)\n",
    "\n",
    "        \n",
    "    return [np.mean(accuracy)*100, np.mean(times)]"
   ]
  },
  {
   "cell_type": "code",
   "execution_count": 4,
   "metadata": {},
   "outputs": [
    {
     "data": {
      "text/html": [
       "<div>\n",
       "<style scoped>\n",
       "    .dataframe tbody tr th:only-of-type {\n",
       "        vertical-align: middle;\n",
       "    }\n",
       "\n",
       "    .dataframe tbody tr th {\n",
       "        vertical-align: top;\n",
       "    }\n",
       "\n",
       "    .dataframe thead th {\n",
       "        text-align: right;\n",
       "    }\n",
       "</style>\n",
       "<table border=\"1\" class=\"dataframe\">\n",
       "  <thead>\n",
       "    <tr style=\"text-align: right;\">\n",
       "      <th></th>\n",
       "      <th>SPAMBASE PRECISIÓN</th>\n",
       "      <th>SPAMBASE TIEMPO</th>\n",
       "      <th>MAGIC PRECISIÓN</th>\n",
       "      <th>MAGIC TIEMPO</th>\n",
       "    </tr>\n",
       "  </thead>\n",
       "  <tbody>\n",
       "    <tr>\n",
       "      <th>0</th>\n",
       "      <td>88.130438</td>\n",
       "      <td>2.581919</td>\n",
       "      <td>79.374337</td>\n",
       "      <td>0.360482</td>\n",
       "    </tr>\n",
       "    <tr>\n",
       "      <th>1</th>\n",
       "      <td>85.695648</td>\n",
       "      <td>2.916862</td>\n",
       "      <td>80.993688</td>\n",
       "      <td>0.645304</td>\n",
       "    </tr>\n",
       "    <tr>\n",
       "      <th>2</th>\n",
       "      <td>86.195660</td>\n",
       "      <td>4.444791</td>\n",
       "      <td>81.771821</td>\n",
       "      <td>1.173429</td>\n",
       "    </tr>\n",
       "    <tr>\n",
       "      <th>3</th>\n",
       "      <td>89.717388</td>\n",
       "      <td>7.318616</td>\n",
       "      <td>83.869612</td>\n",
       "      <td>2.087715</td>\n",
       "    </tr>\n",
       "    <tr>\n",
       "      <th>4</th>\n",
       "      <td>90.152180</td>\n",
       "      <td>10.806254</td>\n",
       "      <td>84.095687</td>\n",
       "      <td>3.516115</td>\n",
       "    </tr>\n",
       "    <tr>\n",
       "      <th>5</th>\n",
       "      <td>85.804349</td>\n",
       "      <td>12.151377</td>\n",
       "      <td>84.274453</td>\n",
       "      <td>5.772794</td>\n",
       "    </tr>\n",
       "  </tbody>\n",
       "</table>\n",
       "</div>"
      ],
      "text/plain": [
       "   SPAMBASE PRECISIÓN  SPAMBASE TIEMPO  MAGIC PRECISIÓN  MAGIC TIEMPO\n",
       "0           88.130438         2.581919        79.374337      0.360482\n",
       "1           85.695648         2.916862        80.993688      0.645304\n",
       "2           86.195660         4.444791        81.771821      1.173429\n",
       "3           89.717388         7.318616        83.869612      2.087715\n",
       "4           90.152180        10.806254        84.095687      3.516115\n",
       "5           85.804349        12.151377        84.274453      5.772794"
      ]
     },
     "execution_count": 4,
     "metadata": {},
     "output_type": "execute_result"
    }
   ],
   "source": [
    "\"\"\"\n",
    "Resultados de mi versión de GPU\n",
    "\"\"\"\n",
    "results = []\n",
    "for depth in range(4, 10):\n",
    "    x = validacion_cruzada(spambase, depth=depth)\n",
    "    y = validacion_cruzada(magic, depth=depth)\n",
    "    x.extend(y)\n",
    "    results.append(x)\n",
    "    \n",
    "# Usamos pandas para visualizar mejor la tabla en el notebook\n",
    "pd.DataFrame(results, columns=[\"SPAMBASE PRECISIÓN\", \"SPAMBASE TIEMPO\", \"MAGIC PRECISIÓN\", \"MAGIC TIEMPO\"])"
   ]
  },
  {
   "cell_type": "code",
   "execution_count": 5,
   "metadata": {},
   "outputs": [],
   "source": [
    "from pyspark.sql import SparkSession\n",
    "from pyspark.sql import Row\n",
    "from pyspark.sql.types import *\n",
    "import numpy as np\n",
    "import time\n",
    "from pyspark.mllib.regression import LabeledPoint\n",
    "from pyspark.mllib.tree import DecisionTree, DecisionTreeModel\n",
    "from pyspark.mllib.util import MLUtils\n",
    "\n",
    "def pyspark_cross_validation(dataset, k=10, depth=5, my_min=1):\n",
    "    accuracy = np.zeros(k, np.float32)\n",
    "    times = np.zeros(k, np.float32)\n",
    "    rdd1 = sc.parallelize(dataset)\n",
    "    rdd1 = rdd1.map(lambda x: [float(i) for i in x])\n",
    "    rdd1 = rdd1.map(lambda x: LabeledPoint(x[-1], x[:-2]))\n",
    "    for i in range(k):\n",
    "        (trainingData, testData) = rdd1.randomSplit([0.9, 0.1], seed = i)\n",
    "        inicio = time.time()\n",
    "        model = DecisionTree.trainClassifier(trainingData, numClasses=2, categoricalFeaturesInfo={},\n",
    "                                     impurity='gini', maxDepth=depth, maxBins=32)\n",
    "        fin = time.time()\n",
    "        times[i] = fin-inicio\n",
    "        predictions = model.predict(testData.map(lambda x: x.features))\n",
    "        labelsAndPredictions = testData.map(lambda lp: lp.label).zip(predictions)\n",
    "        accuracy[i] = labelsAndPredictions.filter(lambda lp: lp[0] == lp[1]).count() / float(testData.count())\n",
    "    rdd1.unpersist()\n",
    "    return [np.mean(accuracy)*100, np.mean(times)]\n",
    "\n"
   ]
  },
  {
   "cell_type": "code",
   "execution_count": 7,
   "metadata": {},
   "outputs": [],
   "source": [
    "results2 = []\n",
    "x = pyspark_cross_validation(spambase, depth=4)\n",
    "results2.append(x)\n"
   ]
  },
  {
   "cell_type": "code",
   "execution_count": 8,
   "metadata": {},
   "outputs": [],
   "source": [
    "x = pyspark_cross_validation(spambase, depth=5)\n",
    "results2.append(x)"
   ]
  },
  {
   "cell_type": "code",
   "execution_count": 9,
   "metadata": {},
   "outputs": [],
   "source": [
    "x = pyspark_cross_validation(spambase, depth=6)\n",
    "results2.append(x)"
   ]
  },
  {
   "cell_type": "code",
   "execution_count": 10,
   "metadata": {},
   "outputs": [],
   "source": [
    "x = pyspark_cross_validation(spambase, depth=7)\n",
    "results2.append(x)"
   ]
  },
  {
   "cell_type": "code",
   "execution_count": 11,
   "metadata": {},
   "outputs": [],
   "source": [
    "x = pyspark_cross_validation(spambase, depth=8)\n",
    "results2.append(x)"
   ]
  },
  {
   "cell_type": "code",
   "execution_count": 12,
   "metadata": {},
   "outputs": [],
   "source": [
    "x = pyspark_cross_validation(spambase, depth=9)\n",
    "results2.append(x)"
   ]
  },
  {
   "cell_type": "code",
   "execution_count": 13,
   "metadata": {},
   "outputs": [],
   "source": [
    "x = pyspark_cross_validation(spambase, depth=10)\n",
    "results2.append(x)"
   ]
  },
  {
   "cell_type": "code",
   "execution_count": 14,
   "metadata": {},
   "outputs": [],
   "source": [
    "results3 = []\n",
    "x = pyspark_cross_validation(magic, depth=4)\n",
    "results3.append(x)\n"
   ]
  },
  {
   "cell_type": "code",
   "execution_count": 15,
   "metadata": {},
   "outputs": [],
   "source": [
    "x = pyspark_cross_validation(magic, depth=5)\n",
    "results3.append(x)"
   ]
  },
  {
   "cell_type": "code",
   "execution_count": 16,
   "metadata": {},
   "outputs": [],
   "source": [
    "x = pyspark_cross_validation(magic, depth=6)\n",
    "results3.append(x)"
   ]
  },
  {
   "cell_type": "code",
   "execution_count": 17,
   "metadata": {},
   "outputs": [],
   "source": [
    "x = pyspark_cross_validation(magic, depth=7)\n",
    "results3.append(x)"
   ]
  },
  {
   "cell_type": "code",
   "execution_count": 18,
   "metadata": {},
   "outputs": [],
   "source": [
    "x = pyspark_cross_validation(magic, depth=8)\n",
    "results3.append(x)"
   ]
  },
  {
   "cell_type": "code",
   "execution_count": 19,
   "metadata": {},
   "outputs": [],
   "source": [
    "x = pyspark_cross_validation(magic, depth=9)\n",
    "results3.append(x)"
   ]
  },
  {
   "cell_type": "code",
   "execution_count": 20,
   "metadata": {},
   "outputs": [],
   "source": [
    "x = pyspark_cross_validation(magic, depth=10)\n",
    "results3.append(x)"
   ]
  },
  {
   "cell_type": "code",
   "execution_count": 22,
   "metadata": {},
   "outputs": [
    {
     "data": {
      "text/html": [
       "<div>\n",
       "<style scoped>\n",
       "    .dataframe tbody tr th:only-of-type {\n",
       "        vertical-align: middle;\n",
       "    }\n",
       "\n",
       "    .dataframe tbody tr th {\n",
       "        vertical-align: top;\n",
       "    }\n",
       "\n",
       "    .dataframe thead th {\n",
       "        text-align: right;\n",
       "    }\n",
       "</style>\n",
       "<table border=\"1\" class=\"dataframe\">\n",
       "  <thead>\n",
       "    <tr style=\"text-align: right;\">\n",
       "      <th></th>\n",
       "      <th>SPAMBASE PRECISIÓN</th>\n",
       "      <th>SPAMBASE TIEMPO</th>\n",
       "    </tr>\n",
       "  </thead>\n",
       "  <tbody>\n",
       "    <tr>\n",
       "      <th>0</th>\n",
       "      <td>88.635957</td>\n",
       "      <td>6.468442</td>\n",
       "    </tr>\n",
       "    <tr>\n",
       "      <th>1</th>\n",
       "      <td>90.775728</td>\n",
       "      <td>6.478657</td>\n",
       "    </tr>\n",
       "    <tr>\n",
       "      <th>2</th>\n",
       "      <td>91.139287</td>\n",
       "      <td>6.603461</td>\n",
       "    </tr>\n",
       "    <tr>\n",
       "      <th>3</th>\n",
       "      <td>91.904658</td>\n",
       "      <td>6.750813</td>\n",
       "    </tr>\n",
       "    <tr>\n",
       "      <th>4</th>\n",
       "      <td>91.944802</td>\n",
       "      <td>6.843715</td>\n",
       "    </tr>\n",
       "    <tr>\n",
       "      <th>5</th>\n",
       "      <td>92.289102</td>\n",
       "      <td>6.896719</td>\n",
       "    </tr>\n",
       "    <tr>\n",
       "      <th>6</th>\n",
       "      <td>92.249364</td>\n",
       "      <td>7.068467</td>\n",
       "    </tr>\n",
       "  </tbody>\n",
       "</table>\n",
       "</div>"
      ],
      "text/plain": [
       "   SPAMBASE PRECISIÓN  SPAMBASE TIEMPO\n",
       "0           88.635957         6.468442\n",
       "1           90.775728         6.478657\n",
       "2           91.139287         6.603461\n",
       "3           91.904658         6.750813\n",
       "4           91.944802         6.843715\n",
       "5           92.289102         6.896719\n",
       "6           92.249364         7.068467"
      ]
     },
     "execution_count": 22,
     "metadata": {},
     "output_type": "execute_result"
    }
   ],
   "source": [
    "pd.DataFrame(results2, columns=[\"SPAMBASE PRECISIÓN\", \"SPAMBASE TIEMPO\"])"
   ]
  },
  {
   "cell_type": "code",
   "execution_count": 23,
   "metadata": {},
   "outputs": [
    {
     "data": {
      "text/html": [
       "<div>\n",
       "<style scoped>\n",
       "    .dataframe tbody tr th:only-of-type {\n",
       "        vertical-align: middle;\n",
       "    }\n",
       "\n",
       "    .dataframe tbody tr th {\n",
       "        vertical-align: top;\n",
       "    }\n",
       "\n",
       "    .dataframe thead th {\n",
       "        text-align: right;\n",
       "    }\n",
       "</style>\n",
       "<table border=\"1\" class=\"dataframe\">\n",
       "  <thead>\n",
       "    <tr style=\"text-align: right;\">\n",
       "      <th></th>\n",
       "      <th>MAGIC PRECISIÓN</th>\n",
       "      <th>MAGIC TIEMPO</th>\n",
       "    </tr>\n",
       "  </thead>\n",
       "  <tbody>\n",
       "    <tr>\n",
       "      <th>0</th>\n",
       "      <td>81.414253</td>\n",
       "      <td>6.415977</td>\n",
       "    </tr>\n",
       "    <tr>\n",
       "      <th>1</th>\n",
       "      <td>81.706637</td>\n",
       "      <td>6.482641</td>\n",
       "    </tr>\n",
       "    <tr>\n",
       "      <th>2</th>\n",
       "      <td>83.592957</td>\n",
       "      <td>6.582308</td>\n",
       "    </tr>\n",
       "    <tr>\n",
       "      <th>3</th>\n",
       "      <td>84.228885</td>\n",
       "      <td>6.712497</td>\n",
       "    </tr>\n",
       "    <tr>\n",
       "      <th>4</th>\n",
       "      <td>84.547967</td>\n",
       "      <td>6.814917</td>\n",
       "    </tr>\n",
       "    <tr>\n",
       "      <th>5</th>\n",
       "      <td>84.730470</td>\n",
       "      <td>7.048651</td>\n",
       "    </tr>\n",
       "    <tr>\n",
       "      <th>6</th>\n",
       "      <td>84.621972</td>\n",
       "      <td>7.086173</td>\n",
       "    </tr>\n",
       "  </tbody>\n",
       "</table>\n",
       "</div>"
      ],
      "text/plain": [
       "   MAGIC PRECISIÓN  MAGIC TIEMPO\n",
       "0        81.414253      6.415977\n",
       "1        81.706637      6.482641\n",
       "2        83.592957      6.582308\n",
       "3        84.228885      6.712497\n",
       "4        84.547967      6.814917\n",
       "5        84.730470      7.048651\n",
       "6        84.621972      7.086173"
      ]
     },
     "execution_count": 23,
     "metadata": {},
     "output_type": "execute_result"
    }
   ],
   "source": [
    "pd.DataFrame(results3, columns=[\"MAGIC PRECISIÓN\", \"MAGIC TIEMPO\"])"
   ]
  },
  {
   "cell_type": "code",
   "execution_count": null,
   "metadata": {},
   "outputs": [],
   "source": []
  }
 ],
 "metadata": {
  "kernelspec": {
   "display_name": "Python 3",
   "language": "python",
   "name": "python3"
  },
  "language_info": {
   "codemirror_mode": {
    "name": "ipython",
    "version": 3
   },
   "file_extension": ".py",
   "mimetype": "text/x-python",
   "name": "python",
   "nbconvert_exporter": "python",
   "pygments_lexer": "ipython3",
   "version": "3.6.8"
  }
 },
 "nbformat": 4,
 "nbformat_minor": 2
}
