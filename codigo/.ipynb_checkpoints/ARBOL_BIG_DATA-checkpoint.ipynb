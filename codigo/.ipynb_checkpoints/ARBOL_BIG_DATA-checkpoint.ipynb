{
 "cells": [
  {
   "cell_type": "code",
   "execution_count": null,
   "metadata": {},
   "outputs": [],
   "source": [
    "import decisiontree as dtree\n",
    "import numpy as np\n",
    "import time\n",
    "import pyspark\n",
    "from pyspark.sql import SparkSession\n",
    "spark = SparkSession.builder.master(\"local\").appName(\"DTREE-SUSY\").getOrCreate()\n",
    "sc = spark.sparkContext\n"
   ]
  },
  {
   "cell_type": "code",
   "execution_count": null,
   "metadata": {},
   "outputs": [],
   "source": [
    "# 1. Leemos el dataset \n",
    "rdd = sc.textFile('../datasets/SUSY.csv')\n",
    "from pyspark.mllib.linalg import DenseVector\n",
    "from pyspark.mllib.regression import LabeledPoint\n",
    "def append_ret(a,b):\n",
    "    a.append(b)\n",
    "    return a\n",
    "# 2. Separamos y ponemos la etiqueta al final en vez de al principio\n",
    "rdd = rdd.map(lambda line: line.split(','))\n",
    "rdd = rdd.map(lambda line: append_ret(line[1:], line[0]))\n",
    "rdd = rdd.map(lambda line: DenseVector(line))\n",
    "rdd = rdd.repartition(12)"
   ]
  },
  {
   "cell_type": "code",
   "execution_count": 8,
   "metadata": {
    "scrolled": true
   },
   "outputs": [],
   "source": [
    "def gpu_work(max_depth=4, min_samples_per_node=1):\n",
    "    def _gpu_work(data):\n",
    "        # 1. Procesamos el dataset\n",
    "        inp = np.asarray(list(data), dtype=np.float32)\n",
    "        return [dtree.train_tree(inp, max_depth, min_samples_per_node)]    \n",
    "    return _gpu_work\n",
    "\n",
    "def cpu_work(max_depth=4, min_samples_per_node=1):\n",
    "    def _cpu_work(data):\n",
    "        # 1. Procesamos el dataset\n",
    "        inp = np.asarray(list(data), dtype=np.float32)\n",
    "        return [dtree.train_tree_np(inp, max_depth, min_samples_per_node)]    \n",
    "    return _gpu_work"
   ]
  },
  {
   "cell_type": "code",
   "execution_count": 9,
   "metadata": {},
   "outputs": [],
   "source": [
    "def predict(sample, trees):\n",
    "    counter = 0\n",
    "    for tree in trees:\n",
    "        counter += dtree.predict(sample, tree)\n",
    "    \n",
    "    return 1 if counter > len(trees) / 2 else 0\n",
    "\n",
    "def evaluar(dataset, trees):\n",
    "    aciertos = 0\n",
    "    for sample in dataset:\n",
    "        etiqueta = predict(sample, trees)\n",
    "        if int(etiqueta) == int(sample[-1]):\n",
    "            aciertos += 1\n",
    "        \n",
    "    return aciertos / dataset.shape[0]\n"
   ]
  },
  {
   "cell_type": "code",
   "execution_count": 14,
   "metadata": {},
   "outputs": [],
   "source": [
    "# 4. Damos el número de particiones deseadas en el RDD para trabajar con el modelo\n",
    "def eval_model(rdd, repeats, max_depth=4, seed=0):\n",
    "    (trainingData, testData) = rdd.randomSplit([0.9, 0.1], seed=seed)\n",
    "    trainingData = trainingData.cache()\n",
    "    \n",
    "    # Una primera vez que no medimos el tiempo\n",
    "    arboles = trainingData.mapPartitions(gpu_work(max_depth=max_depth))\n",
    "    arboles = arboles.collect()\n",
    "    \n",
    "    # Las repeat siguientes medimos el tiempo\n",
    "    for i in range(repeats):\n",
    "        inicio = time.time()\n",
    "        arboles = trainingData.mapPartitions(gpu_work(max_depth=max_depth))\n",
    "        arboles = arboles.collect()\n",
    "        fin = time.time()\n",
    "        print('Tiempo utilizado [GPU]:', fin-inicio)\n",
    "\n",
    "    # Evaluamos la precision\n",
    "    precision = evaluar(np.float32(testData.collect()), arboles) * 100\n",
    "    print('Precisión [GPU]', precision)\n",
    "    \n",
    "    for i in range(repeats):\n",
    "        inicio = time.time()\n",
    "        arboles = trainingData.mapPartitions(cpu_work(max_depth=max_depth))\n",
    "        arboles = arboles.collect()\n",
    "        fin = time.time()\n",
    "        print('Tiempo utilizado [CPU]:', fin-inicio)\n",
    "\n",
    "    # Evaluamos la precision\n",
    "    precision = evaluar(np.float32(testData.collect()), arboles) * 100\n",
    "    print('Precisión [CPU]', precision)\n",
    "    trainingData.unpersist()\n",
    "    testData.unpersist()\n",
    "    \n",
    "    \n",
    "    "
   ]
  },
  {
   "cell_type": "code",
   "execution_count": null,
   "metadata": {},
   "outputs": [
    {
     "name": "stdout",
     "output_type": "stream",
     "text": [
      "Tiempo utilizado [GPU]: 29.33268117904663\n"
     ]
    }
   ],
   "source": [
    "eval_model_gpu(rdd, repeats=5, max_depth=4, seed=0)"
   ]
  },
  {
   "cell_type": "code",
   "execution_count": null,
   "metadata": {},
   "outputs": [],
   "source": [
    "eval_model_gpu(rdd, 225, 6, 1)"
   ]
  },
  {
   "cell_type": "code",
   "execution_count": null,
   "metadata": {},
   "outputs": [],
   "source": [
    "eval_model_gpu(rdd, 225, 6, 2)"
   ]
  },
  {
   "cell_type": "code",
   "execution_count": null,
   "metadata": {},
   "outputs": [],
   "source": [
    "eval_model_gpu(rdd, 225, 6, 3)"
   ]
  },
  {
   "cell_type": "code",
   "execution_count": null,
   "metadata": {},
   "outputs": [],
   "source": [
    "eval_model_gpu(rdd, 225, 6, 4)"
   ]
  },
  {
   "cell_type": "code",
   "execution_count": null,
   "metadata": {},
   "outputs": [],
   "source": [
    "eval_model_gpu(rdd, 225, 6, 5)"
   ]
  },
  {
   "cell_type": "code",
   "execution_count": null,
   "metadata": {},
   "outputs": [],
   "source": [
    "eval_model_gpu(rdd, 225, 6, 6)"
   ]
  },
  {
   "cell_type": "code",
   "execution_count": null,
   "metadata": {},
   "outputs": [],
   "source": [
    "eval_model_gpu(rdd, 225, 6, 7)"
   ]
  },
  {
   "cell_type": "code",
   "execution_count": null,
   "metadata": {},
   "outputs": [],
   "source": [
    "eval_model_gpu(rdd, 225, 6, 8)"
   ]
  },
  {
   "cell_type": "code",
   "execution_count": null,
   "metadata": {},
   "outputs": [],
   "source": [
    "eval_model_gpu(rdd, 225, 6, 9)"
   ]
  },
  {
   "cell_type": "code",
   "execution_count": null,
   "metadata": {},
   "outputs": [],
   "source": [
    "eval_model_gpu(rdd, 225, 7, 0)"
   ]
  },
  {
   "cell_type": "code",
   "execution_count": null,
   "metadata": {},
   "outputs": [],
   "source": [
    "eval_model_gpu(rdd, 225, 7, 1)"
   ]
  },
  {
   "cell_type": "code",
   "execution_count": null,
   "metadata": {},
   "outputs": [],
   "source": [
    "eval_model_gpu(rdd, 225, 7, 2)"
   ]
  },
  {
   "cell_type": "code",
   "execution_count": null,
   "metadata": {},
   "outputs": [],
   "source": [
    "eval_model_gpu(rdd, 225, 7, 3)"
   ]
  },
  {
   "cell_type": "code",
   "execution_count": null,
   "metadata": {},
   "outputs": [],
   "source": [
    "eval_model_gpu(rdd, 225, 7, 4)"
   ]
  },
  {
   "cell_type": "code",
   "execution_count": null,
   "metadata": {},
   "outputs": [],
   "source": [
    "eval_model_gpu(rdd, 225, 7, 5)"
   ]
  },
  {
   "cell_type": "code",
   "execution_count": null,
   "metadata": {},
   "outputs": [],
   "source": [
    "eval_model_gpu(rdd, 225, 7, 6)"
   ]
  },
  {
   "cell_type": "code",
   "execution_count": null,
   "metadata": {},
   "outputs": [],
   "source": [
    "eval_model_gpu(rdd, 225, 7, 7)"
   ]
  },
  {
   "cell_type": "code",
   "execution_count": null,
   "metadata": {},
   "outputs": [],
   "source": [
    "eval_model_gpu(rdd, 225, 7, 8)"
   ]
  },
  {
   "cell_type": "code",
   "execution_count": null,
   "metadata": {},
   "outputs": [],
   "source": [
    "eval_model_gpu(rdd, 225, 7, 9)"
   ]
  },
  {
   "cell_type": "code",
   "execution_count": null,
   "metadata": {},
   "outputs": [],
   "source": [
    "\"\"\"\n",
    "Versión de Spark, se espera que sea más precisa, pero mucho más lenta.\n",
    "\"\"\"\n",
    "import time\n",
    "from pyspark.ml.classification import RandomForestClassifier\n",
    "from pyspark.ml.linalg import Vectors\n",
    "from pyspark.sql import Row\n",
    "from pyspark.ml.evaluation import BinaryClassificationEvaluator\n",
    "\n",
    "rdd2= sc.textFile('../datasets/SUSY.csv')\n",
    "rdd2 = rdd2.map(lambda line: line.split(','))\n",
    "def append_ret(a,b):\n",
    "    a.append(b)\n",
    "    return a\n",
    "rdd2 = rdd2.map(lambda line: append_ret(line[1:], line[0]))\n",
    "\n",
    "rdd2 = rdd2.map(lambda x: Row(label=float(x[-1]), features=Vectors.dense(x[:-2])))\n",
    "df = rdd2.toDF()\n",
    "\n",
    "def eval_spark(ntrees=225, max_depth=6, seed=0):   \n",
    "    inicio = time.time()\n",
    "    (train, test) = df.randomSplit([0.9,0.1], seed=seed)\n",
    "    rf = RandomForestClassifier(featuresCol = 'features', labelCol = 'label', numTrees=ntrees, \n",
    "                            featureSubsetStrategy='all', subsamplingRate=1/ntrees,\n",
    "                            maxDepth=max_depth, seed=seed)\n",
    "    rfModel = rf.fit(train)\n",
    "    fin = time.time()\n",
    "    result = rfModel.transform(test)\n",
    "    evaluator = BinaryClassificationEvaluator(metricName=\"areaUnderROC\")\n",
    "    accuracy = evaluator.evaluate(rfModel.transform(test))\n",
    "    \n",
    "    print('Tiempo utilizado:', fin - inicio)\n",
    "    print('Precisión', accuracy * 100)"
   ]
  },
  {
   "cell_type": "code",
   "execution_count": null,
   "metadata": {},
   "outputs": [],
   "source": [
    "eval_spark(225, 6, 0)"
   ]
  },
  {
   "cell_type": "code",
   "execution_count": null,
   "metadata": {},
   "outputs": [],
   "source": [
    "eval_spark(225, 6, 1)"
   ]
  },
  {
   "cell_type": "code",
   "execution_count": null,
   "metadata": {},
   "outputs": [],
   "source": [
    "eval_spark(225, 6, 2)"
   ]
  },
  {
   "cell_type": "code",
   "execution_count": null,
   "metadata": {},
   "outputs": [],
   "source": [
    "eval_spark(225, 6, 3)"
   ]
  },
  {
   "cell_type": "code",
   "execution_count": null,
   "metadata": {},
   "outputs": [],
   "source": [
    "eval_spark(225, 6, 4)"
   ]
  },
  {
   "cell_type": "code",
   "execution_count": null,
   "metadata": {},
   "outputs": [],
   "source": [
    "eval_spark(225, 6, 5)"
   ]
  },
  {
   "cell_type": "code",
   "execution_count": null,
   "metadata": {},
   "outputs": [],
   "source": [
    "eval_spark(225, 6, 6)"
   ]
  },
  {
   "cell_type": "code",
   "execution_count": null,
   "metadata": {},
   "outputs": [],
   "source": [
    "eval_spark(225, 6, 7)"
   ]
  },
  {
   "cell_type": "code",
   "execution_count": null,
   "metadata": {},
   "outputs": [],
   "source": [
    "eval_spark(225, 6, 8)\n"
   ]
  },
  {
   "cell_type": "code",
   "execution_count": null,
   "metadata": {},
   "outputs": [],
   "source": [
    "eval_spark(225, 6, 9)\n",
    "\n"
   ]
  },
  {
   "cell_type": "code",
   "execution_count": null,
   "metadata": {},
   "outputs": [],
   "source": [
    "eval_spark(225, 7, 0)"
   ]
  },
  {
   "cell_type": "code",
   "execution_count": null,
   "metadata": {},
   "outputs": [],
   "source": [
    "eval_spark(225, 7, 1)"
   ]
  },
  {
   "cell_type": "code",
   "execution_count": null,
   "metadata": {},
   "outputs": [],
   "source": [
    "eval_spark(225, 7, 2)"
   ]
  },
  {
   "cell_type": "code",
   "execution_count": null,
   "metadata": {},
   "outputs": [],
   "source": [
    "eval_spark(225, 7, 3)"
   ]
  },
  {
   "cell_type": "code",
   "execution_count": null,
   "metadata": {},
   "outputs": [],
   "source": [
    "eval_spark(225, 7, 4)"
   ]
  },
  {
   "cell_type": "code",
   "execution_count": null,
   "metadata": {},
   "outputs": [],
   "source": [
    "eval_spark(225, 7, 5)"
   ]
  },
  {
   "cell_type": "code",
   "execution_count": null,
   "metadata": {},
   "outputs": [],
   "source": [
    "eval_spark(225, 7, 6)"
   ]
  },
  {
   "cell_type": "code",
   "execution_count": null,
   "metadata": {},
   "outputs": [],
   "source": [
    "eval_spark(225, 7, 7)"
   ]
  },
  {
   "cell_type": "code",
   "execution_count": null,
   "metadata": {},
   "outputs": [],
   "source": [
    "eval_spark(225, 7, 8)"
   ]
  },
  {
   "cell_type": "code",
   "execution_count": null,
   "metadata": {},
   "outputs": [],
   "source": [
    "eval_spark(225, 7, 9)"
   ]
  },
  {
   "cell_type": "code",
   "execution_count": null,
   "metadata": {},
   "outputs": [],
   "source": [
    "susy = np.float32(susy)"
   ]
  },
  {
   "cell_type": "code",
   "execution_count": null,
   "metadata": {},
   "outputs": [],
   "source": []
  }
 ],
 "metadata": {
  "kernelspec": {
   "display_name": "Python 3",
   "language": "python",
   "name": "python3"
  },
  "language_info": {
   "codemirror_mode": {
    "name": "ipython",
    "version": 3
   },
   "file_extension": ".py",
   "mimetype": "text/x-python",
   "name": "python",
   "nbconvert_exporter": "python",
   "pygments_lexer": "ipython3",
   "version": "3.6.8"
  }
 },
 "nbformat": 4,
 "nbformat_minor": 2
}
