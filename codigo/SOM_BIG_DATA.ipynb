{
 "cells": [
  {
   "cell_type": "code",
   "execution_count": 1,
   "metadata": {},
   "outputs": [],
   "source": [
    "from pyspark.sql import SparkSession\n",
    "spark = SparkSession.builder.master(\"local\").appName(\"SOFM\").getOrCreate()\n",
    "sc = spark.sparkContext\n",
    "import som\n",
    "import numpy as np\n",
    "import math\n",
    "import time\n",
    "\n",
    "d = 18\n",
    "rows = 8\n",
    "cols = 7\n",
    "tau = 10\n",
    "max_iters = 10\n",
    "sigma_0 = 4"
   ]
  },
  {
   "cell_type": "code",
   "execution_count": 2,
   "metadata": {},
   "outputs": [],
   "source": [
    "\"\"\"\n",
    "Ahora probamos con SUSY\n",
    "\"\"\"\n",
    "from pyspark.ml.linalg import DenseVector\n",
    "from pyspark.ml.feature import StandardScaler\n",
    "from pyspark.sql import Row\n",
    "\n",
    "rdd = sc.textFile('../datasets/SUSY.csv')\n",
    "rdd = rdd.map(lambda line: line.split(','))\n",
    "rdd = rdd.map(lambda line: Row(features=DenseVector(line[1:])))\n",
    "df = rdd.toDF()\n",
    "scaler = StandardScaler(inputCol=\"features\", outputCol=\"scaledFeatures\",\n",
    "                        withStd=True, withMean=False)\n",
    "scalerModel = scaler.fit(df)\n",
    "normalized_df = scalerModel.transform(df)\n",
    "rdd = normalized_df.rdd"
   ]
  },
  {
   "cell_type": "code",
   "execution_count": 3,
   "metadata": {},
   "outputs": [],
   "source": [
    "def subsample_and_repeat(sub_percent, rdd, repeat=5):\n",
    "    subrdd = rdd.sample(True, sub_percent, 7)\n",
    "    a = subrdd.take(1)\n",
    "    for my_iter in range(repeat):\n",
    "        print('REPETICIÓN', my_iter)\n",
    "        inicio = time.time()\n",
    "        cpu_weights=som.spark_cpu_batch_som(subrdd, d, max_iters, rows, cols, sigma_0, tau, seed=my_iter)\n",
    "        fin = time.time()\n",
    "        print('TIEMPO CPU', fin - inicio)\n",
    "        inicio = time.time()\n",
    "        weights=som.spark_gpu_batch_som(subrdd, d, max_iters, rows, cols, sigma_0, tau, seed=my_iter)\n",
    "        fin = time.time()\n",
    "        print('TIEMPO GPU', fin - inicio)\n",
    "            \n",
    "\n",
    "    "
   ]
  },
  {
   "cell_type": "code",
   "execution_count": 8,
   "metadata": {},
   "outputs": [
    {
     "name": "stdout",
     "output_type": "stream",
     "text": [
      "REPETICIÓN 0\n",
      "TIEMPO CPU 1626.7230577468872\n",
      "TIEMPO GPU 1040.2971427440643\n",
      "REPETICIÓN 1\n",
      "TIEMPO CPU 1604.7162034511566\n",
      "TIEMPO GPU 1014.214194059372\n",
      "REPETICIÓN 2\n",
      "TIEMPO CPU 1604.0761995315552\n",
      "TIEMPO GPU 1017.0712096691132\n",
      "REPETICIÓN 3\n",
      "TIEMPO CPU 1600.7571794986725\n",
      "TIEMPO GPU 1025.2842993736267\n",
      "REPETICIÓN 4\n",
      "TIEMPO CPU 1600.3163094520569\n",
      "TIEMPO GPU 1026.5466198921204\n"
     ]
    }
   ],
   "source": [
    "subsample_and_repeat(0.1, rdd)\n"
   ]
  },
  {
   "cell_type": "code",
   "execution_count": 9,
   "metadata": {},
   "outputs": [
    {
     "name": "stdout",
     "output_type": "stream",
     "text": [
      "REPETICIÓN 0\n",
      "TIEMPO CPU 2479.121779203415\n",
      "TIEMPO GPU 1038.1888346672058\n",
      "REPETICIÓN 1\n",
      "TIEMPO CPU 2470.7771940231323\n",
      "TIEMPO GPU 1039.673902273178\n",
      "REPETICIÓN 2\n",
      "TIEMPO CPU 2472.043259382248\n",
      "TIEMPO GPU 1036.0775146484375\n",
      "REPETICIÓN 3\n",
      "TIEMPO CPU 2472.9130091667175\n",
      "TIEMPO GPU 1037.668906211853\n",
      "REPETICIÓN 4\n",
      "TIEMPO CPU 2473.7825174331665\n",
      "TIEMPO GPU 1042.2396850585938\n"
     ]
    }
   ],
   "source": [
    "subsample_and_repeat(0.2, rdd)"
   ]
  },
  {
   "cell_type": "code",
   "execution_count": 10,
   "metadata": {},
   "outputs": [
    {
     "name": "stdout",
     "output_type": "stream",
     "text": [
      "REPETICIÓN 0\n",
      "TIEMPO CPU 3329.2713894844055\n",
      "TIEMPO GPU 1069.3611958026886\n",
      "REPETICIÓN 1\n",
      "TIEMPO CPU 3335.342926263809\n",
      "TIEMPO GPU 1067.6408159732819\n",
      "REPETICIÓN 2\n",
      "TIEMPO CPU 3333.0916714668274\n",
      "TIEMPO GPU 1065.1453733444214\n",
      "REPETICIÓN 3\n",
      "TIEMPO CPU 3326.2040078639984\n",
      "TIEMPO GPU 1065.5968744754791\n",
      "REPETICIÓN 4\n",
      "TIEMPO CPU 3328.620718240738\n",
      "TIEMPO GPU 1072.6942672729492\n"
     ]
    }
   ],
   "source": [
    "subsample_and_repeat(0.3, rdd)"
   ]
  },
  {
   "cell_type": "code",
   "execution_count": 11,
   "metadata": {},
   "outputs": [
    {
     "name": "stdout",
     "output_type": "stream",
     "text": [
      "REPETICIÓN 0\n",
      "TIEMPO CPU 4196.714554071426\n",
      "TIEMPO GPU 1096.4159774780273\n",
      "REPETICIÓN 1\n",
      "TIEMPO CPU 4194.30574631691\n",
      "TIEMPO GPU 1083.4809947013855\n",
      "REPETICIÓN 2\n",
      "TIEMPO CPU 4189.897697210312\n",
      "TIEMPO GPU 1093.4891788959503\n",
      "REPETICIÓN 3\n",
      "TIEMPO CPU 4184.97384428978\n",
      "TIEMPO GPU 1095.9122812747955\n",
      "REPETICIÓN 4\n",
      "TIEMPO CPU 4189.027407407761\n",
      "TIEMPO GPU 1094.2111992835999\n"
     ]
    }
   ],
   "source": [
    "subsample_and_repeat(0.4, rdd)"
   ]
  },
  {
   "cell_type": "code",
   "execution_count": 12,
   "metadata": {},
   "outputs": [
    {
     "name": "stdout",
     "output_type": "stream",
     "text": [
      "REPETICIÓN 0\n",
      "TIEMPO CPU 5061.935399532318\n",
      "TIEMPO GPU 1114.9188141822815\n",
      "REPETICIÓN 1\n",
      "TIEMPO CPU 5089.22651720047\n",
      "TIEMPO GPU 1124.8585283756256\n",
      "REPETICIÓN 2\n",
      "TIEMPO CPU 5080.269446372986\n",
      "TIEMPO GPU 1119.4910740852356\n",
      "REPETICIÓN 3\n",
      "TIEMPO CPU 5080.303938865662\n",
      "TIEMPO GPU 1118.7945370674133\n",
      "REPETICIÓN 4\n",
      "TIEMPO CPU 5071.040327787399\n",
      "TIEMPO GPU 1120.6473979949951\n"
     ]
    }
   ],
   "source": [
    "subsample_and_repeat(0.5, rdd)"
   ]
  },
  {
   "cell_type": "code",
   "execution_count": 4,
   "metadata": {},
   "outputs": [
    {
     "name": "stdout",
     "output_type": "stream",
     "text": [
      "REPETICIÓN 0\n",
      "TIEMPO CPU 5952.785950899124\n",
      "TIEMPO GPU 1142.0098707675934\n",
      "REPETICIÓN 1\n",
      "TIEMPO CPU 5943.887523889542\n",
      "TIEMPO GPU 1142.4115257263184\n",
      "REPETICIÓN 2\n",
      "TIEMPO CPU 5932.3710305690765\n",
      "TIEMPO GPU 1132.1699755191803\n",
      "REPETICIÓN 3\n",
      "TIEMPO CPU 5936.824468135834\n",
      "TIEMPO GPU 1137.167414188385\n",
      "REPETICIÓN 4\n",
      "TIEMPO CPU 5934.391213417053\n",
      "TIEMPO GPU 1134.6218490600586\n"
     ]
    }
   ],
   "source": [
    "subsample_and_repeat(0.6, rdd)"
   ]
  },
  {
   "cell_type": "code",
   "execution_count": null,
   "metadata": {},
   "outputs": [
    {
     "name": "stdout",
     "output_type": "stream",
     "text": [
      "REPETICIÓN 0\n",
      "TIEMPO CPU 6787.286008358002\n",
      "TIEMPO GPU 1156.5586359500885\n",
      "REPETICIÓN 1\n",
      "TIEMPO CPU 6789.885028123856\n",
      "TIEMPO GPU 1157.9658601284027\n",
      "REPETICIÓN 2\n",
      "TIEMPO CPU 6800.490084648132\n",
      "TIEMPO GPU 1151.2380900382996\n",
      "REPETICIÓN 3\n",
      "TIEMPO CPU 6824.093298435211\n",
      "TIEMPO GPU 1158.1699306964874\n",
      "REPETICIÓN 4\n",
      "TIEMPO CPU 6832.599863767624\n",
      "TIEMPO GPU 1168.975726366043\n"
     ]
    }
   ],
   "source": [
    "subsample_and_repeat(0.7, rdd)"
   ]
  },
  {
   "cell_type": "code",
   "execution_count": null,
   "metadata": {},
   "outputs": [
    {
     "name": "stdout",
     "output_type": "stream",
     "text": [
      "REPETICIÓN 0\n",
      "TIEMPO CPU 7692.160309076309\n",
      "TIEMPO GPU 1170.2617163658142\n",
      "REPETICIÓN 1\n",
      "TIEMPO CPU 7693.6434235572815\n",
      "TIEMPO GPU 1177.8705813884735\n",
      "REPETICIÓN 2\n",
      "TIEMPO CPU 7677.753610372543\n",
      "TIEMPO GPU 1173.32985496521\n",
      "REPETICIÓN 3\n",
      "TIEMPO CPU 7683.1013832092285\n",
      "TIEMPO GPU 1162.4300644397736\n",
      "REPETICIÓN 4\n",
      "TIEMPO CPU 7674.611334562302\n",
      "TIEMPO GPU 1175.5599958896637\n"
     ]
    }
   ],
   "source": [
    "subsample_and_repeat(0.8, rdd)"
   ]
  },
  {
   "cell_type": "code",
   "execution_count": null,
   "metadata": {},
   "outputs": [
    {
     "name": "stdout",
     "output_type": "stream",
     "text": [
      "REPETICIÓN 0\n",
      "TIEMPO CPU 8527.345841884613\n",
      "TIEMPO GPU 1174.6535234451294\n",
      "REPETICIÓN 1\n",
      "TIEMPO CPU 8515.61854338646\n",
      "TIEMPO GPU 1182.8414070606232\n",
      "REPETICIÓN 2\n",
      "TIEMPO CPU 8520.68859577179\n",
      "TIEMPO GPU 1179.2499775886536\n",
      "REPETICIÓN 3\n",
      "TIEMPO CPU 8542.116681098938\n",
      "TIEMPO GPU 1198.4511241912842\n",
      "REPETICIÓN 4\n",
      "TIEMPO CPU 8528.228273153305\n",
      "TIEMPO GPU 1172.1161234378815\n"
     ]
    }
   ],
   "source": [
    "subsample_and_repeat(0.9, rdd)"
   ]
  },
  {
   "cell_type": "code",
   "execution_count": null,
   "metadata": {},
   "outputs": [
    {
     "name": "stdout",
     "output_type": "stream",
     "text": [
      "REPETICIÓN 0\n",
      "TIEMPO CPU 9413.422646284103\n",
      "TIEMPO GPU 1195.815146446228\n",
      "REPETICIÓN 1\n",
      "TIEMPO CPU 9413.24831366539\n",
      "TIEMPO GPU 1191.4032664299011\n",
      "REPETICIÓN 2\n",
      "TIEMPO CPU 9402.93989443779\n",
      "TIEMPO GPU 1191.7513518333435\n",
      "REPETICIÓN 3\n"
     ]
    }
   ],
   "source": [
    "subsample_and_repeat(1.0, rdd)"
   ]
  },
  {
   "cell_type": "code",
   "execution_count": null,
   "metadata": {},
   "outputs": [],
   "source": []
  }
 ],
 "metadata": {
  "kernelspec": {
   "display_name": "Python 3",
   "language": "python",
   "name": "python3"
  }
 },
 "nbformat": 4,
 "nbformat_minor": 2
}
