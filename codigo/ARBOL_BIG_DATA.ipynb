{
 "cells": [
  {
   "cell_type": "code",
   "execution_count": 1,
   "metadata": {},
   "outputs": [],
   "source": [
    "import decisiontree_gpu as dtree\n",
    "import numpy as np\n",
    "import time\n",
    "\n",
    "import pyspark\n",
    "from pyspark.sql import SparkSession\n",
    "spark = SparkSession.builder.master(\"local\").appName(\"DTREE-SUSY\").config(\"spark.executor.heartbeat\", \"3600s\").getOrCreate()\n",
    "sc = spark.sparkContext\n"
   ]
  },
  {
   "cell_type": "code",
   "execution_count": 2,
   "metadata": {},
   "outputs": [
    {
     "data": {
      "text/plain": [
       "MapPartitionsRDD[6] at coalesce at NativeMethodAccessorImpl.java:0"
      ]
     },
     "execution_count": 2,
     "metadata": {},
     "output_type": "execute_result"
    }
   ],
   "source": [
    "# 1. Leemos el dataset \n",
    "rdd = sc.textFile('../datasets/SUSY.csv', 225)\n",
    "def append_ret(a,b):\n",
    "    a.append(b)\n",
    "    return a\n",
    "# 2. Separamos y ponemos la etiqueta al final en vez de al principio\n",
    "rdd = rdd.map(lambda line: line.split(','))\n",
    "rdd = rdd.map(lambda line: append_ret(line[1:], line[0]))\n"
   ]
  },
  {
   "cell_type": "code",
   "execution_count": 3,
   "metadata": {},
   "outputs": [],
   "source": [
    "rdd.getNumPartitions()\n",
    "    "
   ]
  },
  {
   "cell_type": "code",
   "execution_count": 77,
   "metadata": {
    "scrolled": true
   },
   "outputs": [],
   "source": [
    "def gpu_work(max_depth=6, min_samples_per_node=1, tpb=128):\n",
    "    def _gpu_work(data):\n",
    "        # 1. Procesamos el dataset\n",
    "        inp = np.asarray(list(data), dtype=np.float32)\n",
    "        return [dtree.train_tree(inp, max_depth, min_samples_per_node, tpb)]    \n",
    "    return _gpu_work"
   ]
  },
  {
   "cell_type": "code",
   "execution_count": 78,
   "metadata": {},
   "outputs": [],
   "source": [
    "def predict(sample, trees):\n",
    "    counter = 0\n",
    "    for tree in trees:\n",
    "        counter += dtree.predict(sample, tree)\n",
    "    \n",
    "    return 1 if counter > len(trees) / 2 else 0\n",
    "\n",
    "def evaluar(dataset, trees):\n",
    "    aciertos = 0\n",
    "    for sample in dataset:\n",
    "        etiqueta = predict(sample, trees)\n",
    "        if int(etiqueta) == int(sample[-1]):\n",
    "            aciertos += 1\n",
    "        \n",
    "    return aciertos / dataset.shape[0]\n"
   ]
  },
  {
   "cell_type": "code",
   "execution_count": 79,
   "metadata": {},
   "outputs": [],
   "source": [
    "# El número de árboles seleccionado se corresponde a evaluar 20000 muestras por árbol.\n",
    "# Realizmos validación cruzada para profundidad 6 y 7 en nuestro modelo y en Spark\n",
    "\n",
    "def eval_model_gpu(rdd, ntrees, max_depth, seed):\n",
    "    # Ejecutamos el modelo sobre las particiones [Profundidad 6 Iteración 0]\n",
    "    # Subdividimos el RDD en Split de Training (90 %) y Split de Test (10 %)\n",
    "    (trainingData, testData) = rdd.randomSplit([0.9, 0.1], seed=seed)\n",
    "    # 4. Damos el número de particiones deseadas en el RDD para trabajar con el modelo\n",
    "    trainingData = trainingData.repartition(ntrees)\n",
    "    inicio = time.time()\n",
    "    arboles = trainingData.mapPartitions(gpu_work(max_depth=max_depth))\n",
    "    arboles = arboles.collect()\n",
    "    fin = time.time()\n",
    "    precision = evaluar(np.float32(testData.collect()), arboles) * 100\n",
    "    print('Tiempo utilizado:', fin-inicio)\n",
    "    print('Precisión', precision)"
   ]
  },
  {
   "cell_type": "code",
   "execution_count": 21,
   "metadata": {},
   "outputs": [
    {
     "name": "stdout",
     "output_type": "stream",
     "text": [
      "Tiempo utilizado: 560.4573318958282\n",
      "Precisión 78.11074853556067\n"
     ]
    }
   ],
   "source": [
    "eval_model_gpu(rdd, 225, 6, 0)"
   ]
  },
  {
   "cell_type": "code",
   "execution_count": 22,
   "metadata": {},
   "outputs": [
    {
     "name": "stdout",
     "output_type": "stream",
     "text": [
      "Tiempo utilizado: 536.0125508308411\n",
      "Precisión 78.13558916148808\n"
     ]
    }
   ],
   "source": [
    "eval_model_gpu(rdd, 225, 6, 1)"
   ]
  },
  {
   "cell_type": "code",
   "execution_count": 17,
   "metadata": {},
   "outputs": [
    {
     "name": "stdout",
     "output_type": "stream",
     "text": [
      "Tiempo utilizado: 519.9591224193573\n",
      "Precisión 78.24470219097861\n"
     ]
    }
   ],
   "source": [
    "eval_model_gpu(rdd, 225, 6, 2)"
   ]
  },
  {
   "cell_type": "code",
   "execution_count": 18,
   "metadata": {},
   "outputs": [
    {
     "name": "stdout",
     "output_type": "stream",
     "text": [
      "Tiempo utilizado: 519.4733338356018\n",
      "Precisión 78.14667206836474\n"
     ]
    }
   ],
   "source": [
    "eval_model_gpu(rdd, 225, 6, 3)"
   ]
  },
  {
   "cell_type": "code",
   "execution_count": 19,
   "metadata": {},
   "outputs": [
    {
     "name": "stdout",
     "output_type": "stream",
     "text": [
      "Tiempo utilizado: 530.5869901180267\n",
      "Precisión 78.12771359958798\n"
     ]
    }
   ],
   "source": [
    "eval_model_gpu(rdd, 225, 6, 4)"
   ]
  },
  {
   "cell_type": "code",
   "execution_count": 20,
   "metadata": {},
   "outputs": [
    {
     "name": "stdout",
     "output_type": "stream",
     "text": [
      "Tiempo utilizado: 543.3472962379456\n",
      "Precisión 78.1055959506849\n"
     ]
    }
   ],
   "source": [
    "eval_model_gpu(rdd, 225, 6, 5)"
   ]
  },
  {
   "cell_type": "code",
   "execution_count": 23,
   "metadata": {},
   "outputs": [
    {
     "name": "stdout",
     "output_type": "stream",
     "text": [
      "Tiempo utilizado: 545.5358641147614\n",
      "Precisión 78.14674603919002\n"
     ]
    }
   ],
   "source": [
    "eval_model_gpu(rdd, 225, 6, 6)"
   ]
  },
  {
   "cell_type": "code",
   "execution_count": 80,
   "metadata": {},
   "outputs": [
    {
     "name": "stdout",
     "output_type": "stream",
     "text": [
      "Tiempo utilizado: 530.7353973388672\n",
      "Precisión 78.10162888034186\n"
     ]
    }
   ],
   "source": [
    "eval_model_gpu(rdd, 225, 6, 7)"
   ]
  },
  {
   "cell_type": "code",
   "execution_count": 81,
   "metadata": {},
   "outputs": [
    {
     "name": "stdout",
     "output_type": "stream",
     "text": [
      "Tiempo utilizado: 558.4582099914551\n",
      "Precisión 78.17898363548532\n"
     ]
    }
   ],
   "source": [
    "eval_model_gpu(rdd, 225, 6, 8)"
   ]
  },
  {
   "cell_type": "code",
   "execution_count": 82,
   "metadata": {},
   "outputs": [
    {
     "name": "stdout",
     "output_type": "stream",
     "text": [
      "Tiempo utilizado: 521.2870435714722\n",
      "Precisión 78.10271141036057\n"
     ]
    }
   ],
   "source": [
    "eval_model_gpu(rdd, 225, 6, 9)"
   ]
  },
  {
   "cell_type": "code",
   "execution_count": 83,
   "metadata": {},
   "outputs": [
    {
     "name": "stdout",
     "output_type": "stream",
     "text": [
      "Tiempo utilizado: 583.1255974769592\n",
      "Precisión 78.84102226346936\n"
     ]
    }
   ],
   "source": [
    "eval_model_gpu(rdd, 225, 7, 0)"
   ]
  },
  {
   "cell_type": "code",
   "execution_count": 84,
   "metadata": {},
   "outputs": [
    {
     "name": "stdout",
     "output_type": "stream",
     "text": [
      "Tiempo utilizado: 559.2700748443604\n",
      "Precisión 78.82926031027615\n"
     ]
    }
   ],
   "source": [
    "eval_model_gpu(rdd, 225, 7, 1)"
   ]
  },
  {
   "cell_type": "code",
   "execution_count": 85,
   "metadata": {},
   "outputs": [
    {
     "name": "stdout",
     "output_type": "stream",
     "text": [
      "Tiempo utilizado: 584.0724532604218\n",
      "Precisión 78.96584692091359\n"
     ]
    }
   ],
   "source": [
    "eval_model_gpu(rdd, 225, 7, 2)"
   ]
  },
  {
   "cell_type": "code",
   "execution_count": 86,
   "metadata": {},
   "outputs": [
    {
     "name": "stdout",
     "output_type": "stream",
     "text": [
      "Tiempo utilizado: 548.7389233112335\n",
      "Precisión 78.85953655825352\n"
     ]
    }
   ],
   "source": [
    "eval_model_gpu(rdd, 225, 7, 3)"
   ]
  },
  {
   "cell_type": "code",
   "execution_count": 87,
   "metadata": {},
   "outputs": [
    {
     "name": "stdout",
     "output_type": "stream",
     "text": [
      "Tiempo utilizado: 561.0129799842834\n",
      "Precisión 78.78107352245438\n"
     ]
    }
   ],
   "source": [
    "eval_model_gpu(rdd, 225, 7, 4)"
   ]
  },
  {
   "cell_type": "code",
   "execution_count": 88,
   "metadata": {},
   "outputs": [
    {
     "name": "stdout",
     "output_type": "stream",
     "text": [
      "Tiempo utilizado: 574.2824943065643\n",
      "Precisión 78.76424834788024\n"
     ]
    }
   ],
   "source": [
    "eval_model_gpu(rdd, 225, 7, 5)"
   ]
  },
  {
   "cell_type": "code",
   "execution_count": 89,
   "metadata": {},
   "outputs": [
    {
     "name": "stdout",
     "output_type": "stream",
     "text": [
      "Tiempo utilizado: 572.0794265270233\n",
      "Precisión 78.7879392612608\n"
     ]
    }
   ],
   "source": [
    "eval_model_gpu(rdd, 225, 7, 6)"
   ]
  },
  {
   "cell_type": "code",
   "execution_count": 90,
   "metadata": {},
   "outputs": [
    {
     "name": "stdout",
     "output_type": "stream",
     "text": [
      "Tiempo utilizado: 580.5854170322418\n",
      "Precisión 78.83852708180727\n"
     ]
    }
   ],
   "source": [
    "eval_model_gpu(rdd, 225, 7, 7)"
   ]
  },
  {
   "cell_type": "code",
   "execution_count": 91,
   "metadata": {},
   "outputs": [
    {
     "name": "stdout",
     "output_type": "stream",
     "text": [
      "Tiempo utilizado: 576.3165907859802\n",
      "Precisión 78.80737461124797\n"
     ]
    }
   ],
   "source": [
    "eval_model_gpu(rdd, 225, 7, 8)"
   ]
  },
  {
   "cell_type": "code",
   "execution_count": 92,
   "metadata": {},
   "outputs": [
    {
     "name": "stdout",
     "output_type": "stream",
     "text": [
      "Tiempo utilizado: 592.1349990367889\n",
      "Precisión 78.76863682910908\n"
     ]
    }
   ],
   "source": [
    "eval_model_gpu(rdd, 225, 7, 9)"
   ]
  },
  {
   "cell_type": "code",
   "execution_count": 3,
   "metadata": {},
   "outputs": [],
   "source": [
    "\"\"\"\n",
    "Versión de Spark, se espera que sea más precisa, pero mucho más lenta.\n",
    "\"\"\"\n",
    "import time\n",
    "from pyspark.ml.classification import RandomForestClassifier\n",
    "from pyspark.ml.linalg import Vectors\n",
    "from pyspark.sql import Row\n",
    "from pyspark.ml.evaluation import BinaryClassificationEvaluator\n",
    "\n",
    "rdd2= sc.textFile('../datasets/SUSY.csv')\n",
    "rdd2 = rdd2.map(lambda line: line.split(','))\n",
    "def append_ret(a,b):\n",
    "    a.append(b)\n",
    "    return a\n",
    "rdd2 = rdd2.map(lambda line: append_ret(line[1:], line[0]))\n",
    "\n",
    "rdd2 = rdd2.map(lambda x: Row(label=float(x[-1]), features=Vectors.dense(x[:-2])))\n",
    "df = rdd2.toDF()\n",
    "\n",
    "def eval_spark(ntrees=225, max_depth=6, seed=0):   \n",
    "    inicio = time.time()\n",
    "    (train, test) = df.randomSplit([0.9,0.1], seed=seed)\n",
    "    rf = RandomForestClassifier(featuresCol = 'features', labelCol = 'label', numTrees=ntrees, \n",
    "                            featureSubsetStrategy='all', subsamplingRate=1/ntrees,\n",
    "                            maxDepth=max_depth, seed=seed)\n",
    "    rfModel = rf.fit(train)\n",
    "    fin = time.time()\n",
    "    result = rfModel.transform(test)\n",
    "    evaluator = BinaryClassificationEvaluator(metricName=\"areaUnderROC\")\n",
    "    accuracy = evaluator.evaluate(rfModel.transform(test))\n",
    "    \n",
    "    print('Tiempo utilizado:', fin - inicio)\n",
    "    print('Precisión', accuracy * 100)"
   ]
  },
  {
   "cell_type": "code",
   "execution_count": 4,
   "metadata": {},
   "outputs": [
    {
     "name": "stdout",
     "output_type": "stream",
     "text": [
      "Tiempo utilizado: 1201.0418632030487\n",
      "Precisión 85.29685357004023\n"
     ]
    }
   ],
   "source": [
    "eval_spark(225, 6, 0)"
   ]
  },
  {
   "cell_type": "code",
   "execution_count": 5,
   "metadata": {},
   "outputs": [
    {
     "name": "stdout",
     "output_type": "stream",
     "text": [
      "Tiempo utilizado: 1273.03622174263\n",
      "Precisión 85.30343555609613\n"
     ]
    }
   ],
   "source": [
    "eval_spark(225, 6, 1)"
   ]
  },
  {
   "cell_type": "code",
   "execution_count": 6,
   "metadata": {},
   "outputs": [
    {
     "name": "stdout",
     "output_type": "stream",
     "text": [
      "Tiempo utilizado: 1236.4733180999756\n",
      "Precisión 85.37577721342872\n"
     ]
    }
   ],
   "source": [
    "eval_spark(225, 6, 2)"
   ]
  },
  {
   "cell_type": "code",
   "execution_count": 7,
   "metadata": {},
   "outputs": [
    {
     "name": "stdout",
     "output_type": "stream",
     "text": [
      "Tiempo utilizado: 1238.7885835170746\n",
      "Precisión 85.32967269446206\n"
     ]
    }
   ],
   "source": [
    "eval_spark(225, 6, 3)"
   ]
  },
  {
   "cell_type": "code",
   "execution_count": 8,
   "metadata": {},
   "outputs": [
    {
     "name": "stdout",
     "output_type": "stream",
     "text": [
      "Tiempo utilizado: 1334.7991597652435\n",
      "Precisión 85.33446170864863\n"
     ]
    }
   ],
   "source": [
    "eval_spark(225, 6, 4)"
   ]
  },
  {
   "cell_type": "code",
   "execution_count": 9,
   "metadata": {},
   "outputs": [
    {
     "name": "stdout",
     "output_type": "stream",
     "text": [
      "Tiempo utilizado: 1324.342830657959\n",
      "Precisión 85.24477843225576\n"
     ]
    }
   ],
   "source": [
    "eval_spark(225, 6, 5)"
   ]
  },
  {
   "cell_type": "code",
   "execution_count": 10,
   "metadata": {},
   "outputs": [
    {
     "name": "stdout",
     "output_type": "stream",
     "text": [
      "Tiempo utilizado: 1187.4351456165314\n",
      "Precisión 85.27251217304988\n"
     ]
    }
   ],
   "source": [
    "eval_spark(225, 6, 6)"
   ]
  },
  {
   "cell_type": "code",
   "execution_count": 11,
   "metadata": {},
   "outputs": [
    {
     "name": "stdout",
     "output_type": "stream",
     "text": [
      "Tiempo utilizado: 1247.093768119812\n",
      "Precisión 85.28868682446948\n"
     ]
    }
   ],
   "source": [
    "eval_spark(225, 6, 7)"
   ]
  },
  {
   "cell_type": "code",
   "execution_count": 12,
   "metadata": {},
   "outputs": [
    {
     "name": "stdout",
     "output_type": "stream",
     "text": [
      "Tiempo utilizado: 1250.9972622394562\n",
      "Precisión 85.33649649957039\n"
     ]
    }
   ],
   "source": [
    "eval_spark(225, 6, 8)\n"
   ]
  },
  {
   "cell_type": "code",
   "execution_count": 14,
   "metadata": {},
   "outputs": [
    {
     "name": "stdout",
     "output_type": "stream",
     "text": [
      "Tiempo utilizado: 1268.3399126529694\n",
      "Precisión 85.27754012654106\n"
     ]
    }
   ],
   "source": [
    "eval_spark(225, 6, 9)\n",
    "\n"
   ]
  },
  {
   "cell_type": "code",
   "execution_count": 15,
   "metadata": {},
   "outputs": [
    {
     "name": "stdout",
     "output_type": "stream",
     "text": [
      "Tiempo utilizado: 1280.4425477981567\n",
      "Precisión 85.29685357004017\n"
     ]
    }
   ],
   "source": [
    "eval_spark(225, 7, 0)"
   ]
  },
  {
   "cell_type": "code",
   "execution_count": null,
   "metadata": {},
   "outputs": [],
   "source": [
    "eval_spark(225, 7, 1)"
   ]
  },
  {
   "cell_type": "code",
   "execution_count": null,
   "metadata": {},
   "outputs": [],
   "source": [
    "eval_spark(225, 7, 2)"
   ]
  },
  {
   "cell_type": "code",
   "execution_count": null,
   "metadata": {},
   "outputs": [],
   "source": [
    "eval_spark(225, 7, 3)"
   ]
  },
  {
   "cell_type": "code",
   "execution_count": null,
   "metadata": {},
   "outputs": [],
   "source": [
    "eval_spark(225, 7, 4)"
   ]
  },
  {
   "cell_type": "code",
   "execution_count": null,
   "metadata": {},
   "outputs": [],
   "source": [
    "eval_spark(225, 7, 5)"
   ]
  },
  {
   "cell_type": "code",
   "execution_count": null,
   "metadata": {},
   "outputs": [],
   "source": [
    "eval_spark(225, 7, 6)"
   ]
  },
  {
   "cell_type": "code",
   "execution_count": null,
   "metadata": {},
   "outputs": [],
   "source": [
    "eval_spark(225, 7, 7)"
   ]
  },
  {
   "cell_type": "code",
   "execution_count": null,
   "metadata": {},
   "outputs": [],
   "source": [
    "eval_spark(225, 7, 8)"
   ]
  },
  {
   "cell_type": "code",
   "execution_count": null,
   "metadata": {},
   "outputs": [],
   "source": [
    "eval_spark(225, 7, 9)"
   ]
  },
  {
   "cell_type": "code",
   "execution_count": null,
   "metadata": {},
   "outputs": [],
   "source": []
  }
 ],
 "metadata": {
  "kernelspec": {
   "display_name": "Python 3",
   "language": "python",
   "name": "python3"
  },
  "language_info": {
   "codemirror_mode": {
    "name": "ipython",
    "version": 3
   },
   "file_extension": ".py",
   "mimetype": "text/x-python",
   "name": "python",
   "nbconvert_exporter": "python",
   "pygments_lexer": "ipython3",
   "version": "3.6.8"
  }
 },
 "nbformat": 4,
 "nbformat_minor": 2
}
