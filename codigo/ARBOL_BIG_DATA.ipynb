{
 "cells": [
  {
   "cell_type": "code",
   "execution_count": 1,
   "metadata": {},
   "outputs": [],
   "source": [
    "import decisiontree as dtree\n",
    "import numpy as np\n",
    "import time\n",
    "import pyspark\n",
    "from pyspark.sql import SparkSession\n",
    "spark = SparkSession.builder.master(\"local\").appName(\"DTREE-SUSY\").getOrCreate()\n",
    "sc = spark.sparkContext\n"
   ]
  },
  {
   "cell_type": "code",
   "execution_count": 2,
   "metadata": {},
   "outputs": [],
   "source": [
    "# 1. Leemos el dataset \n",
    "rdd = sc.textFile('../datasets/SUSY.csv')\n",
    "from pyspark.mllib.linalg import DenseVector\n",
    "from pyspark.mllib.regression import LabeledPoint\n",
    "def append_ret(a,b):\n",
    "    a.append(b)\n",
    "    return a\n",
    "# 2. Separamos y ponemos la etiqueta al final en vez de al principio\n",
    "rdd = rdd.map(lambda line: line.split(','))\n",
    "rdd = rdd.map(lambda line: append_ret(line[1:], line[0]))\n",
    "rdd = rdd.map(lambda line: DenseVector(line))\n",
    "rdd = rdd.repartition(12)"
   ]
  },
  {
   "cell_type": "code",
   "execution_count": 3,
   "metadata": {
    "scrolled": true
   },
   "outputs": [],
   "source": [
    "def gpu_work(max_depth=4, min_samples_per_node=1):\n",
    "    def _gpu_work(data):\n",
    "        # 1. Procesamos el dataset\n",
    "        inp = np.asarray(list(data), dtype=np.float32)\n",
    "        return [dtree.train_tree(inp, max_depth, min_samples_per_node)]    \n",
    "    return _gpu_work\n",
    "\n",
    "def cpu_work(max_depth=4, min_samples_per_node=1):\n",
    "    def _cpu_work(data):\n",
    "        # 1. Procesamos el dataset\n",
    "        inp = np.asarray(list(data), dtype=np.float32)\n",
    "        return [dtree.train_tree_np(inp, max_depth, min_samples_per_node)]    \n",
    "    return _cpu_work"
   ]
  },
  {
   "cell_type": "code",
   "execution_count": 4,
   "metadata": {},
   "outputs": [],
   "source": [
    "def predict(sample, trees):\n",
    "    counter = 0\n",
    "    for tree in trees:\n",
    "        counter += dtree.predict(sample, tree)\n",
    "    \n",
    "    return 1 if counter > len(trees) / 2 else 0\n",
    "\n",
    "def evaluar(dataset, trees):\n",
    "    aciertos = 0\n",
    "    for sample in dataset:\n",
    "        etiqueta = predict(sample, trees)\n",
    "        if int(etiqueta) == int(sample[-1]):\n",
    "            aciertos += 1\n",
    "        \n",
    "    return aciertos / dataset.shape[0]\n"
   ]
  },
  {
   "cell_type": "code",
   "execution_count": 5,
   "metadata": {},
   "outputs": [],
   "source": [
    "# 4. Damos el número de particiones deseadas en el RDD para trabajar con el modelo\n",
    "def eval_model(rdd, repeats, max_depth=4, seed=0):\n",
    "    (trainingData, testData) = rdd.randomSplit([0.9, 0.1], seed=seed)\n",
    "    trainingData = trainingData.cache()\n",
    "    \n",
    "    # Una primera vez que no medimos el tiempo\n",
    "    inicio = time.time()\n",
    "    arboles = trainingData.mapPartitions(gpu_work(max_depth=max_depth))\n",
    "    arboles = arboles.collect()\n",
    "    fin = time.time()\n",
    "    print('Primera vez', fin - inicio)\n",
    "    \n",
    "    # Las repeat siguientes medimos el tiempo\n",
    "    for i in range(repeats):\n",
    "        inicio = time.time()\n",
    "        arboles = trainingData.mapPartitions(gpu_work(max_depth=max_depth))\n",
    "        arboles = arboles.collect()\n",
    "        fin = time.time()\n",
    "        print('Tiempo utilizado [GPU]:', fin-inicio)\n",
    "\n",
    "    # Evaluamos la precision\n",
    "    precision = evaluar(np.float32(testData.collect()), arboles) * 100\n",
    "    print('Precisión [GPU]', precision)\n",
    "    \n",
    "    for i in range(repeats):\n",
    "        inicio = time.time()\n",
    "        arboles = trainingData.mapPartitions(cpu_work(max_depth=max_depth))\n",
    "        arboles = arboles.collect()\n",
    "        fin = time.time()\n",
    "        print('Tiempo utilizado [CPU]:', fin-inicio)\n",
    "\n",
    "    # Evaluamos la precision\n",
    "    precision = evaluar(np.float32(testData.collect()), arboles) * 100\n",
    "    print('Precisión [CPU]', precision)\n",
    "    trainingData.unpersist()\n",
    "    testData.unpersist()\n",
    "    \n",
    "    \n",
    "    "
   ]
  },
  {
   "cell_type": "code",
   "execution_count": 6,
   "metadata": {},
   "outputs": [
    {
     "name": "stdout",
     "output_type": "stream",
     "text": [
      "Primera vez 102.89843511581421\n",
      "Tiempo utilizado [GPU]: 25.674546480178833\n",
      "Tiempo utilizado [GPU]: 25.626336097717285\n",
      "Tiempo utilizado [GPU]: 25.713415384292603\n",
      "Tiempo utilizado [GPU]: 25.69814705848694\n",
      "Tiempo utilizado [GPU]: 25.418145656585693\n",
      "Precisión [GPU] 75.91173974993197\n",
      "Tiempo utilizado [CPU]: 27.806687593460083\n",
      "Tiempo utilizado [CPU]: 27.729249715805054\n",
      "Tiempo utilizado [CPU]: 27.07365322113037\n",
      "Tiempo utilizado [CPU]: 28.169651985168457\n",
      "Tiempo utilizado [CPU]: 27.57110595703125\n",
      "Precisión [CPU] 75.91173974993197\n"
     ]
    }
   ],
   "source": [
    "eval_model(rdd, repeats=5, max_depth=4, seed=0)"
   ]
  },
  {
   "cell_type": "code",
   "execution_count": 7,
   "metadata": {},
   "outputs": [
    {
     "name": "stdout",
     "output_type": "stream",
     "text": [
      "Primera vez 32.11091208457947\n",
      "Tiempo utilizado [GPU]: 25.460184812545776\n",
      "Tiempo utilizado [GPU]: 25.434159994125366\n",
      "Tiempo utilizado [GPU]: 25.67987322807312\n",
      "Tiempo utilizado [GPU]: 25.554270029067993\n",
      "Tiempo utilizado [GPU]: 25.234865427017212\n",
      "Precisión [GPU] 75.90468738430629\n",
      "Tiempo utilizado [CPU]: 27.786797046661377\n",
      "Tiempo utilizado [CPU]: 27.26883101463318\n",
      "Tiempo utilizado [CPU]: 27.78830361366272\n",
      "Tiempo utilizado [CPU]: 27.268831729888916\n",
      "Tiempo utilizado [CPU]: 27.535074472427368\n",
      "Precisión [CPU] 75.90468738430629\n"
     ]
    }
   ],
   "source": [
    "eval_model(rdd, repeats=5, max_depth=4, seed=1)"
   ]
  },
  {
   "cell_type": "code",
   "execution_count": 8,
   "metadata": {},
   "outputs": [
    {
     "name": "stdout",
     "output_type": "stream",
     "text": [
      "Primera vez 32.40732669830322\n",
      "Tiempo utilizado [GPU]: 25.802496194839478\n",
      "Tiempo utilizado [GPU]: 26.048721075057983\n",
      "Tiempo utilizado [GPU]: 26.063733100891113\n",
      "Tiempo utilizado [GPU]: 25.472195386886597\n",
      "Tiempo utilizado [GPU]: 25.55871844291687\n",
      "Precisión [GPU] 75.7282369421653\n",
      "Tiempo utilizado [CPU]: 27.69290542602539\n",
      "Tiempo utilizado [CPU]: 27.534072399139404\n",
      "Tiempo utilizado [CPU]: 27.702225923538208\n",
      "Tiempo utilizado [CPU]: 27.733253717422485\n",
      "Tiempo utilizado [CPU]: 27.627158164978027\n",
      "Precisión [CPU] 75.7282369421653\n"
     ]
    }
   ],
   "source": [
    "eval_model(rdd, repeats=5, max_depth=4, seed=2)"
   ]
  },
  {
   "cell_type": "code",
   "execution_count": 9,
   "metadata": {},
   "outputs": [
    {
     "name": "stdout",
     "output_type": "stream",
     "text": [
      "Primera vez 32.39765024185181\n",
      "Tiempo utilizado [GPU]: 25.113869667053223\n",
      "Tiempo utilizado [GPU]: 25.588300228118896\n",
      "Tiempo utilizado [GPU]: 26.000659227371216\n",
      "Tiempo utilizado [GPU]: 25.389909267425537\n",
      "Tiempo utilizado [GPU]: 25.645572662353516\n",
      "Precisión [GPU] 75.82915246639463\n",
      "Tiempo utilizado [CPU]: 28.03356146812439\n",
      "Tiempo utilizado [CPU]: 27.78029775619507\n",
      "Tiempo utilizado [CPU]: 26.913508415222168\n",
      "Tiempo utilizado [CPU]: 27.56510853767395\n",
      "Tiempo utilizado [CPU]: 27.772289752960205\n",
      "Precisión [CPU] 75.82915246639463\n"
     ]
    }
   ],
   "source": [
    "eval_model(rdd, repeats=5, max_depth=4, seed=3)"
   ]
  },
  {
   "cell_type": "code",
   "execution_count": 10,
   "metadata": {},
   "outputs": [
    {
     "name": "stdout",
     "output_type": "stream",
     "text": [
      "Primera vez 32.16852259635925\n",
      "Tiempo utilizado [GPU]: 25.801494598388672\n",
      "Tiempo utilizado [GPU]: 25.08982563018799\n",
      "Tiempo utilizado [GPU]: 25.971300840377808\n",
      "Tiempo utilizado [GPU]: 25.345078706741333\n",
      "Tiempo utilizado [GPU]: 25.641350507736206\n",
      "Precisión [GPU] 75.7834313684341\n",
      "Tiempo utilizado [CPU]: 27.608101844787598\n",
      "Tiempo utilizado [CPU]: 28.95736861228943\n",
      "Tiempo utilizado [CPU]: 29.043447494506836\n",
      "Tiempo utilizado [CPU]: 28.024519681930542\n",
      "Tiempo utilizado [CPU]: 27.6191508769989\n",
      "Precisión [CPU] 75.7834313684341\n"
     ]
    }
   ],
   "source": [
    "eval_model(rdd, repeats=5, max_depth=4, seed=4)"
   ]
  },
  {
   "cell_type": "code",
   "execution_count": 11,
   "metadata": {},
   "outputs": [
    {
     "name": "stdout",
     "output_type": "stream",
     "text": [
      "Primera vez 32.91188859939575\n",
      "Tiempo utilizado [GPU]: 25.370102167129517\n",
      "Tiempo utilizado [GPU]: 25.736434936523438\n",
      "Tiempo utilizado [GPU]: 25.688393354415894\n",
      "Tiempo utilizado [GPU]: 25.127471446990967\n",
      "Tiempo utilizado [GPU]: 25.25763702392578\n",
      "Precisión [GPU] 75.67169996102612\n",
      "Tiempo utilizado [CPU]: 27.684842348098755\n",
      "Tiempo utilizado [CPU]: 27.843355417251587\n",
      "Tiempo utilizado [CPU]: 29.135285139083862\n",
      "Tiempo utilizado [CPU]: 27.60412836074829\n",
      "Tiempo utilizado [CPU]: 27.355909824371338\n",
      "Precisión [CPU] 75.67169996102612\n"
     ]
    }
   ],
   "source": [
    "eval_model(rdd, repeats=5, max_depth=4, seed=5)"
   ]
  },
  {
   "cell_type": "code",
   "execution_count": 12,
   "metadata": {},
   "outputs": [
    {
     "name": "stdout",
     "output_type": "stream",
     "text": [
      "Primera vez 32.175182580947876\n",
      "Tiempo utilizado [GPU]: 25.66537117958069\n",
      "Tiempo utilizado [GPU]: 25.6233332157135\n",
      "Tiempo utilizado [GPU]: 25.501230239868164\n",
      "Tiempo utilizado [GPU]: 25.524723768234253\n",
      "Tiempo utilizado [GPU]: 25.355088233947754\n",
      "Precisión [GPU] 75.7264205624288\n",
      "Tiempo utilizado [CPU]: 27.0171902179718\n",
      "Tiempo utilizado [CPU]: 27.689213514328003\n",
      "Tiempo utilizado [CPU]: 27.64517641067505\n",
      "Tiempo utilizado [CPU]: 27.629157304763794\n",
      "Tiempo utilizado [CPU]: 27.32588291168213\n",
      "Precisión [CPU] 75.7264205624288\n"
     ]
    }
   ],
   "source": [
    "eval_model(rdd, repeats=5, max_depth=4, seed=6)"
   ]
  },
  {
   "cell_type": "code",
   "execution_count": 14,
   "metadata": {},
   "outputs": [
    {
     "name": "stdout",
     "output_type": "stream",
     "text": [
      "Primera vez 32.26472735404968\n",
      "Tiempo utilizado [GPU]: 25.4580557346344\n",
      "Tiempo utilizado [GPU]: 25.39612650871277\n",
      "Tiempo utilizado [GPU]: 25.455214977264404\n",
      "Tiempo utilizado [GPU]: 25.71641778945923\n",
      "Tiempo utilizado [GPU]: 26.164843797683716\n",
      "Precisión [GPU] 76.33980501025314\n",
      "Tiempo utilizado [CPU]: 27.611056089401245\n",
      "Tiempo utilizado [CPU]: 27.84435534477234\n",
      "Tiempo utilizado [CPU]: 27.852364778518677\n",
      "Tiempo utilizado [CPU]: 27.529206037521362\n",
      "Tiempo utilizado [CPU]: 27.072651863098145\n",
      "Precisión [CPU] 76.33980501025314\n"
     ]
    }
   ],
   "source": [
    "eval_model(rdd, repeats=5, max_depth=4, seed=7)"
   ]
  },
  {
   "cell_type": "code",
   "execution_count": 15,
   "metadata": {},
   "outputs": [
    {
     "name": "stdout",
     "output_type": "stream",
     "text": [
      "Primera vez 32.3108913898468\n",
      "Tiempo utilizado [GPU]: 25.84353280067444\n",
      "Tiempo utilizado [GPU]: 25.668373823165894\n",
      "Tiempo utilizado [GPU]: 25.5512752532959\n",
      "Tiempo utilizado [GPU]: 25.70539927482605\n",
      "Tiempo utilizado [GPU]: 25.250914812088013\n",
      "Precisión [GPU] 75.65367217748141\n",
      "Tiempo utilizado [CPU]: 27.68384313583374\n",
      "Tiempo utilizado [CPU]: 27.68721318244934\n",
      "Tiempo utilizado [CPU]: 27.55403757095337\n",
      "Tiempo utilizado [CPU]: 26.7953999042511\n",
      "Tiempo utilizado [CPU]: 26.562196016311646\n",
      "Precisión [CPU] 75.65367217748141\n"
     ]
    }
   ],
   "source": [
    "eval_model(rdd, repeats=5, max_depth=4, seed=8)"
   ]
  },
  {
   "cell_type": "code",
   "execution_count": 16,
   "metadata": {},
   "outputs": [
    {
     "name": "stdout",
     "output_type": "stream",
     "text": [
      "Primera vez 32.28126072883606\n",
      "Tiempo utilizado [GPU]: 25.57777214050293\n",
      "Tiempo utilizado [GPU]: 25.799936294555664\n",
      "Tiempo utilizado [GPU]: 25.672933101654053\n",
      "Tiempo utilizado [GPU]: 25.736435890197754\n",
      "Tiempo utilizado [GPU]: 25.479201793670654\n",
      "Precisión [GPU] 75.69269823502368\n",
      "Tiempo utilizado [CPU]: 27.51003670692444\n",
      "Tiempo utilizado [CPU]: 27.230796813964844\n",
      "Tiempo utilizado [CPU]: 26.872491121292114\n",
      "Tiempo utilizado [CPU]: 27.164743661880493\n",
      "Tiempo utilizado [CPU]: 27.515378713607788\n",
      "Precisión [CPU] 75.69269823502368\n"
     ]
    }
   ],
   "source": [
    "eval_model(rdd, repeats=5, max_depth=4, seed=9)"
   ]
  },
  {
   "cell_type": "code",
   "execution_count": 17,
   "metadata": {},
   "outputs": [
    {
     "name": "stdout",
     "output_type": "stream",
     "text": [
      "Primera vez 33.049731731414795\n",
      "Tiempo utilizado [GPU]: 25.451175689697266\n",
      "Tiempo utilizado [GPU]: 25.62233281135559\n",
      "Tiempo utilizado [GPU]: 25.603679895401\n",
      "Tiempo utilizado [GPU]: 25.58980679512024\n",
      "Tiempo utilizado [GPU]: 25.594306707382202\n",
      "Precisión [GPU] 77.2677425035621\n",
      "Tiempo utilizado [CPU]: 32.10027360916138\n",
      "Tiempo utilizado [CPU]: 30.90013813972473\n",
      "Tiempo utilizado [CPU]: 30.95919179916382\n",
      "Tiempo utilizado [CPU]: 30.471742868423462\n",
      "Tiempo utilizado [CPU]: 31.321521282196045\n",
      "Precisión [CPU] 77.2677425035621\n"
     ]
    }
   ],
   "source": [
    "eval_model(rdd, repeats=5, max_depth=5, seed=0)"
   ]
  },
  {
   "cell_type": "code",
   "execution_count": 18,
   "metadata": {},
   "outputs": [
    {
     "name": "stdout",
     "output_type": "stream",
     "text": [
      "Primera vez 33.299933195114136\n",
      "Tiempo utilizado [GPU]: 25.23314094543457\n",
      "Tiempo utilizado [GPU]: 25.762375593185425\n",
      "Tiempo utilizado [GPU]: 25.36409592628479\n",
      "Tiempo utilizado [GPU]: 25.606261491775513\n",
      "Tiempo utilizado [GPU]: 25.800485610961914\n",
      "Precisión [GPU] 77.03936138066011\n",
      "Tiempo utilizado [CPU]: 31.74946880340576\n",
      "Tiempo utilizado [CPU]: 31.08530569076538\n",
      "Tiempo utilizado [CPU]: 31.277482748031616\n",
      "Tiempo utilizado [CPU]: 31.482667207717896\n",
      "Tiempo utilizado [CPU]: 31.359558820724487\n",
      "Precisión [CPU] 77.03936138066011\n"
     ]
    }
   ],
   "source": [
    "eval_model(rdd, repeats=5, max_depth=5, seed=1)"
   ]
  },
  {
   "cell_type": "code",
   "execution_count": 19,
   "metadata": {},
   "outputs": [
    {
     "name": "stdout",
     "output_type": "stream",
     "text": [
      "Primera vez 33.86920642852783\n",
      "Tiempo utilizado [GPU]: 26.843444347381592\n",
      "Tiempo utilizado [GPU]: 26.191850900650024\n",
      "Tiempo utilizado [GPU]: 25.678391218185425\n",
      "Tiempo utilizado [GPU]: 25.375107288360596\n",
      "Tiempo utilizado [GPU]: 25.585289478302002\n",
      "Precisión [GPU] 76.88493095857515\n",
      "Tiempo utilizado [CPU]: 31.433504104614258\n",
      "Tiempo utilizado [CPU]: 31.731894969940186\n",
      "Tiempo utilizado [CPU]: 30.97420573234558\n",
      "Tiempo utilizado [CPU]: 31.73489785194397\n",
      "Tiempo utilizado [CPU]: 31.71586561203003\n",
      "Precisión [CPU] 76.88493095857515\n"
     ]
    }
   ],
   "source": [
    "eval_model(rdd, repeats=5, max_depth=5, seed=2)"
   ]
  },
  {
   "cell_type": "code",
   "execution_count": 20,
   "metadata": {},
   "outputs": [
    {
     "name": "stdout",
     "output_type": "stream",
     "text": [
      "Primera vez 34.02461886405945\n",
      "Tiempo utilizado [GPU]: 25.989896774291992\n",
      "Tiempo utilizado [GPU]: 26.252906560897827\n",
      "Tiempo utilizado [GPU]: 25.925608158111572\n",
      "Tiempo utilizado [GPU]: 25.678405284881592\n",
      "Tiempo utilizado [GPU]: 25.96075987815857\n",
      "Precisión [GPU] 76.9684428763831\n",
      "Tiempo utilizado [CPU]: 32.75079321861267\n",
      "Tiempo utilizado [CPU]: 31.537718772888184\n",
      "Tiempo utilizado [CPU]: 31.736900568008423\n",
      "Tiempo utilizado [CPU]: 32.11724543571472\n",
      "Tiempo utilizado [CPU]: 31.840006113052368\n",
      "Precisión [CPU] 76.9684428763831\n"
     ]
    }
   ],
   "source": [
    "eval_model(rdd, repeats=5, max_depth=5, seed=3)"
   ]
  },
  {
   "cell_type": "code",
   "execution_count": 21,
   "metadata": {},
   "outputs": [
    {
     "name": "stdout",
     "output_type": "stream",
     "text": [
      "Primera vez 32.931315898895264\n",
      "Tiempo utilizado [GPU]: 26.355873346328735\n",
      "Tiempo utilizado [GPU]: 26.312336921691895\n",
      "Tiempo utilizado [GPU]: 26.76500368118286\n",
      "Tiempo utilizado [GPU]: 26.175837516784668\n",
      "Tiempo utilizado [GPU]: 26.41905689239502\n",
      "Precisión [GPU] 76.95065866396446\n",
      "Tiempo utilizado [CPU]: 33.077974796295166\n",
      "Tiempo utilizado [CPU]: 31.759921312332153\n",
      "Tiempo utilizado [CPU]: 31.76392436027527\n",
      "Tiempo utilizado [CPU]: 31.8580105304718\n",
      "Tiempo utilizado [CPU]: 32.08921980857849\n",
      "Precisión [CPU] 76.95065866396446\n"
     ]
    }
   ],
   "source": [
    "eval_model(rdd, repeats=5, max_depth=5, seed=4)"
   ]
  },
  {
   "cell_type": "code",
   "execution_count": 22,
   "metadata": {},
   "outputs": [
    {
     "name": "stdout",
     "output_type": "stream",
     "text": [
      "Primera vez 32.913734436035156\n",
      "Tiempo utilizado [GPU]: 26.05672788619995\n",
      "Tiempo utilizado [GPU]: 26.17183256149292\n",
      "Tiempo utilizado [GPU]: 26.094762325286865\n",
      "Tiempo utilizado [GPU]: 25.99667239189148\n",
      "Tiempo utilizado [GPU]: 26.145808696746826\n",
      "Precisión [GPU] 76.90807159203334\n",
      "Tiempo utilizado [CPU]: 32.169777154922485\n",
      "Tiempo utilizado [CPU]: 32.66274356842041\n",
      "Tiempo utilizado [CPU]: 32.44754695892334\n",
      "Tiempo utilizado [CPU]: 32.37348031997681\n",
      "Tiempo utilizado [CPU]: 32.34545421600342\n",
      "Precisión [CPU] 76.90787172594362\n"
     ]
    }
   ],
   "source": [
    "eval_model(rdd, repeats=5, max_depth=5, seed=5)"
   ]
  },
  {
   "cell_type": "code",
   "execution_count": 23,
   "metadata": {},
   "outputs": [
    {
     "name": "stdout",
     "output_type": "stream",
     "text": [
      "Primera vez 33.07403016090393\n",
      "Tiempo utilizado [GPU]: 26.18806552886963\n",
      "Tiempo utilizado [GPU]: 26.156819343566895\n",
      "Tiempo utilizado [GPU]: 25.867554664611816\n",
      "Tiempo utilizado [GPU]: 26.197856426239014\n",
      "Tiempo utilizado [GPU]: 26.249903678894043\n",
      "Precisión [GPU] 76.90544240801071\n",
      "Tiempo utilizado [CPU]: 31.66985034942627\n",
      "Tiempo utilizado [CPU]: 32.041178941726685\n",
      "Tiempo utilizado [CPU]: 32.01613974571228\n",
      "Tiempo utilizado [CPU]: 31.950101375579834\n",
      "Tiempo utilizado [CPU]: 31.887028455734253\n",
      "Precisión [CPU] 76.90544240801071\n"
     ]
    }
   ],
   "source": [
    "eval_model(rdd, repeats=5, max_depth=5, seed=6)"
   ]
  },
  {
   "cell_type": "code",
   "execution_count": 24,
   "metadata": {},
   "outputs": [
    {
     "name": "stdout",
     "output_type": "stream",
     "text": [
      "Primera vez 33.880786657333374\n",
      "Tiempo utilizado [GPU]: 25.943623781204224\n",
      "Tiempo utilizado [GPU]: 25.725425958633423\n",
      "Tiempo utilizado [GPU]: 26.025699377059937\n",
      "Tiempo utilizado [GPU]: 26.106899738311768\n",
      "Tiempo utilizado [GPU]: 25.910594701766968\n",
      "Precisión [GPU] 77.27977710889125\n",
      "Tiempo utilizado [CPU]: 30.97204279899597\n",
      "Tiempo utilizado [CPU]: 31.254461765289307\n",
      "Tiempo utilizado [CPU]: 31.416606903076172\n",
      "Tiempo utilizado [CPU]: 31.07029390335083\n",
      "Tiempo utilizado [CPU]: 31.887036561965942\n",
      "Precisión [CPU] 77.27977710889125\n"
     ]
    }
   ],
   "source": [
    "eval_model(rdd, repeats=5, max_depth=5, seed=7)"
   ]
  },
  {
   "cell_type": "code",
   "execution_count": 25,
   "metadata": {},
   "outputs": [
    {
     "name": "stdout",
     "output_type": "stream",
     "text": [
      "Primera vez 32.69866418838501\n",
      "Tiempo utilizado [GPU]: 26.01869249343872\n",
      "Tiempo utilizado [GPU]: 25.798500776290894\n",
      "Tiempo utilizado [GPU]: 26.301564693450928\n",
      "Tiempo utilizado [GPU]: 26.003679275512695\n",
      "Tiempo utilizado [GPU]: 25.71134662628174\n",
      "Precisión [GPU] 76.84458383054594\n",
      "Tiempo utilizado [CPU]: 31.985620975494385\n",
      "Tiempo utilizado [CPU]: 31.104322910308838\n",
      "Tiempo utilizado [CPU]: 31.02625298500061\n",
      "Tiempo utilizado [CPU]: 31.19840955734253\n",
      "Tiempo utilizado [CPU]: 31.47265934944153\n",
      "Precisión [CPU] 76.84438394607916\n"
     ]
    }
   ],
   "source": [
    "eval_model(rdd, repeats=5, max_depth=5, seed=8)"
   ]
  },
  {
   "cell_type": "code",
   "execution_count": 26,
   "metadata": {},
   "outputs": [
    {
     "name": "stdout",
     "output_type": "stream",
     "text": [
      "Primera vez 33.56046175956726\n",
      "Tiempo utilizado [GPU]: 27.200769901275635\n",
      "Tiempo utilizado [GPU]: 27.13756799697876\n",
      "Tiempo utilizado [GPU]: 27.16877555847168\n",
      "Tiempo utilizado [GPU]: 26.637255668640137\n",
      "Tiempo utilizado [GPU]: 26.946539640426636\n",
      "Precisión [GPU] 76.88060924663695\n",
      "Tiempo utilizado [CPU]: 32.25084137916565\n",
      "Tiempo utilizado [CPU]: 32.09429883956909\n",
      "Tiempo utilizado [CPU]: 31.601776838302612\n",
      "Tiempo utilizado [CPU]: 31.77832007408142\n",
      "Tiempo utilizado [CPU]: 31.89404296875\n",
      "Precisión [CPU] 76.88060924663695\n"
     ]
    }
   ],
   "source": [
    "eval_model(rdd, repeats=5, max_depth=5, seed=9)"
   ]
  },
  {
   "cell_type": "code",
   "execution_count": 27,
   "metadata": {
    "scrolled": true
   },
   "outputs": [
    {
     "name": "stdout",
     "output_type": "stream",
     "text": [
      "Primera vez 32.89678621292114\n",
      "Tiempo utilizado [GPU]: 26.379009246826172\n",
      "Tiempo utilizado [GPU]: 26.498128652572632\n",
      "Tiempo utilizado [GPU]: 26.97056007385254\n",
      "Tiempo utilizado [GPU]: 26.709322214126587\n",
      "Tiempo utilizado [GPU]: 26.435070276260376\n",
      "Precisión [GPU] 77.3738052927333\n",
      "Tiempo utilizado [CPU]: 35.80617070198059\n",
      "Tiempo utilizado [CPU]: 35.54436755180359\n",
      "Tiempo utilizado [CPU]: 35.7205274105072\n",
      "Tiempo utilizado [CPU]: 36.903605461120605\n",
      "Tiempo utilizado [CPU]: 36.92268753051758\n",
      "Precisión [CPU] 77.37360517426316\n"
     ]
    }
   ],
   "source": [
    "eval_model(rdd, repeats=5, max_depth=6, seed=0)"
   ]
  },
  {
   "cell_type": "code",
   "execution_count": 28,
   "metadata": {},
   "outputs": [
    {
     "name": "stdout",
     "output_type": "stream",
     "text": [
      "Primera vez 33.65185022354126\n",
      "Tiempo utilizado [GPU]: 26.488120317459106\n",
      "Tiempo utilizado [GPU]: 26.67228865623474\n",
      "Tiempo utilizado [GPU]: 26.58083200454712\n",
      "Tiempo utilizado [GPU]: 26.203861713409424\n",
      "Tiempo utilizado [GPU]: 26.590213298797607\n",
      "Precisión [GPU] 77.43139424818341\n",
      "Tiempo utilizado [CPU]: 35.660409688949585\n",
      "Tiempo utilizado [CPU]: 35.833629846572876\n",
      "Tiempo utilizado [CPU]: 35.52435040473938\n",
      "Tiempo utilizado [CPU]: 35.70651364326477\n",
      "Tiempo utilizado [CPU]: 36.2209837436676\n",
      "Precisión [CPU] 77.43139424818341\n"
     ]
    }
   ],
   "source": [
    "eval_model(rdd, repeats=5, max_depth=6, seed=1)"
   ]
  },
  {
   "cell_type": "code",
   "execution_count": 29,
   "metadata": {},
   "outputs": [
    {
     "name": "stdout",
     "output_type": "stream",
     "text": [
      "Primera vez 33.674257040023804\n",
      "Tiempo utilizado [GPU]: 26.66127896308899\n",
      "Tiempo utilizado [GPU]: 26.09175944328308\n",
      "Tiempo utilizado [GPU]: 25.912686109542847\n",
      "Tiempo utilizado [GPU]: 25.90959334373474\n",
      "Tiempo utilizado [GPU]: 26.27605700492859\n",
      "Precisión [GPU] 77.3690214128477\n",
      "Tiempo utilizado [CPU]: 34.722423791885376\n",
      "Tiempo utilizado [CPU]: 34.508421659469604\n",
      "Tiempo utilizado [CPU]: 34.59149980545044\n",
      "Tiempo utilizado [CPU]: 35.403239011764526\n",
      "Tiempo utilizado [CPU]: 34.463382720947266\n",
      "Precisión [CPU] 77.3690214128477\n"
     ]
    }
   ],
   "source": [
    "eval_model(rdd, repeats=5, max_depth=6, seed=2)"
   ]
  },
  {
   "cell_type": "code",
   "execution_count": 30,
   "metadata": {},
   "outputs": [
    {
     "name": "stdout",
     "output_type": "stream",
     "text": [
      "Primera vez 32.92789006233215\n",
      "Tiempo utilizado [GPU]: 26.365016222000122\n",
      "Tiempo utilizado [GPU]: 26.18506908416748\n",
      "Tiempo utilizado [GPU]: 25.885579586029053\n",
      "Tiempo utilizado [GPU]: 26.853453874588013\n",
      "Tiempo utilizado [GPU]: 26.46108055114746\n",
      "Precisión [GPU] 77.42672059267916\n",
      "Tiempo utilizado [CPU]: 35.40167856216431\n",
      "Tiempo utilizado [CPU]: 35.64545822143555\n",
      "Tiempo utilizado [CPU]: 35.6624755859375\n",
      "Tiempo utilizado [CPU]: 35.0008704662323\n",
      "Tiempo utilizado [CPU]: 35.32316708564758\n",
      "Precisión [CPU] 77.42672059267916\n"
     ]
    }
   ],
   "source": [
    "eval_model(rdd, repeats=5, max_depth=6, seed=3)"
   ]
  },
  {
   "cell_type": "code",
   "execution_count": 31,
   "metadata": {},
   "outputs": [
    {
     "name": "stdout",
     "output_type": "stream",
     "text": [
      "Primera vez 33.18377614021301\n",
      "Tiempo utilizado [GPU]: 25.59630799293518\n",
      "Tiempo utilizado [GPU]: 26.11812734603882\n",
      "Tiempo utilizado [GPU]: 26.08575439453125\n",
      "Tiempo utilizado [GPU]: 26.016690731048584\n",
      "Tiempo utilizado [GPU]: 25.77847409248352\n",
      "Precisión [GPU] 77.48650393439543\n",
      "Tiempo utilizado [CPU]: 35.148037910461426\n",
      "Tiempo utilizado [CPU]: 35.15100908279419\n",
      "Tiempo utilizado [CPU]: 35.14600396156311\n",
      "Tiempo utilizado [CPU]: 35.20806074142456\n",
      "Tiempo utilizado [CPU]: 34.80943417549133\n",
      "Precisión [CPU] 77.48650393439543\n"
     ]
    }
   ],
   "source": [
    "eval_model(rdd, repeats=5, max_depth=6, seed=4)"
   ]
  },
  {
   "cell_type": "code",
   "execution_count": 32,
   "metadata": {},
   "outputs": [
    {
     "name": "stdout",
     "output_type": "stream",
     "text": [
      "Primera vez 34.51730298995972\n",
      "Tiempo utilizado [GPU]: 26.065736293792725\n",
      "Tiempo utilizado [GPU]: 26.00294828414917\n",
      "Tiempo utilizado [GPU]: 25.905510663986206\n",
      "Tiempo utilizado [GPU]: 25.871559381484985\n",
      "Tiempo utilizado [GPU]: 25.84253215789795\n",
      "Precisión [GPU] 77.25963604385062\n",
      "Tiempo utilizado [CPU]: 34.59854602813721\n",
      "Tiempo utilizado [CPU]: 35.48331141471863\n",
      "Tiempo utilizado [CPU]: 35.11897945404053\n",
      "Tiempo utilizado [CPU]: 35.61343050003052\n",
      "Tiempo utilizado [CPU]: 35.10696816444397\n",
      "Precisión [CPU] 77.25963604385062\n"
     ]
    }
   ],
   "source": [
    "eval_model(rdd, repeats=5, max_depth=6, seed=5)"
   ]
  },
  {
   "cell_type": "code",
   "execution_count": 33,
   "metadata": {},
   "outputs": [
    {
     "name": "stdout",
     "output_type": "stream",
     "text": [
      "Primera vez 33.650551080703735\n",
      "Tiempo utilizado [GPU]: 28.470446586608887\n",
      "Tiempo utilizado [GPU]: 41.4528489112854\n",
      "Tiempo utilizado [GPU]: 26.129793167114258\n",
      "Tiempo utilizado [GPU]: 25.885587692260742\n",
      "Tiempo utilizado [GPU]: 25.932687759399414\n",
      "Precisión [GPU] 77.70111726260667\n",
      "Tiempo utilizado [CPU]: 35.82424855232239\n",
      "Tiempo utilizado [CPU]: 35.355337381362915\n",
      "Tiempo utilizado [CPU]: 35.80560612678528\n",
      "Tiempo utilizado [CPU]: 35.549371004104614\n",
      "Tiempo utilizado [CPU]: 34.5985050201416\n",
      "Precisión [CPU] 77.70111726260667\n"
     ]
    }
   ],
   "source": [
    "eval_model(rdd, repeats=5, max_depth=6, seed=6)"
   ]
  },
  {
   "cell_type": "code",
   "execution_count": 34,
   "metadata": {},
   "outputs": [
    {
     "name": "stdout",
     "output_type": "stream",
     "text": [
      "Primera vez 33.33692646026611\n",
      "Tiempo utilizado [GPU]: 26.12936758995056\n",
      "Tiempo utilizado [GPU]: 26.227856874465942\n",
      "Tiempo utilizado [GPU]: 26.174476146697998\n",
      "Tiempo utilizado [GPU]: 25.874972820281982\n",
      "Tiempo utilizado [GPU]: 25.90057396888733\n",
      "Precisión [GPU] 77.58417377192036\n",
      "Tiempo utilizado [CPU]: 35.47934699058533\n",
      "Tiempo utilizado [CPU]: 34.77066230773926\n",
      "Tiempo utilizado [CPU]: 35.38522148132324\n",
      "Tiempo utilizado [CPU]: 35.087952852249146\n",
      "Tiempo utilizado [CPU]: 34.600507974624634\n",
      "Precisión [CPU] 77.58397390543117\n"
     ]
    }
   ],
   "source": [
    "eval_model(rdd, repeats=5, max_depth=6, seed=7)"
   ]
  },
  {
   "cell_type": "code",
   "execution_count": 35,
   "metadata": {},
   "outputs": [
    {
     "name": "stdout",
     "output_type": "stream",
     "text": [
      "Primera vez 33.11093258857727\n",
      "Tiempo utilizado [GPU]: 25.980981826782227\n",
      "Tiempo utilizado [GPU]: 25.731431007385254\n",
      "Tiempo utilizado [GPU]: 25.907140731811523\n",
      "Tiempo utilizado [GPU]: 25.892425298690796\n",
      "Tiempo utilizado [GPU]: 26.029703378677368\n",
      "Precisión [GPU] 77.36388367523571\n",
      "Tiempo utilizado [CPU]: 35.46436357498169\n",
      "Tiempo utilizado [CPU]: 35.462292194366455\n",
      "Tiempo utilizado [CPU]: 34.91078996658325\n",
      "Tiempo utilizado [CPU]: 35.068934202194214\n",
      "Tiempo utilizado [CPU]: 34.28922367095947\n",
      "Precisión [CPU] 77.36368379076893\n"
     ]
    }
   ],
   "source": [
    "eval_model(rdd, repeats=5, max_depth=6, seed=8)"
   ]
  },
  {
   "cell_type": "code",
   "execution_count": 36,
   "metadata": {},
   "outputs": [
    {
     "name": "stdout",
     "output_type": "stream",
     "text": [
      "Primera vez 33.223084926605225\n",
      "Tiempo utilizado [GPU]: 25.89357876777649\n",
      "Tiempo utilizado [GPU]: 26.362005710601807\n",
      "Tiempo utilizado [GPU]: 25.998674631118774\n",
      "Tiempo utilizado [GPU]: 25.861385583877563\n",
      "Tiempo utilizado [GPU]: 25.883479118347168\n",
      "Precisión [GPU] 77.43588718543245\n",
      "Tiempo utilizado [CPU]: 35.200605154037476\n",
      "Tiempo utilizado [CPU]: 35.1372275352478\n",
      "Tiempo utilizado [CPU]: 34.81970715522766\n",
      "Tiempo utilizado [CPU]: 34.98585867881775\n",
      "Tiempo utilizado [CPU]: 35.411245584487915\n",
      "Precisión [CPU] 77.4356873013652\n"
     ]
    }
   ],
   "source": [
    "eval_model(rdd, repeats=5, max_depth=6, seed=9)"
   ]
  },
  {
   "cell_type": "code",
   "execution_count": 37,
   "metadata": {},
   "outputs": [
    {
     "name": "stdout",
     "output_type": "stream",
     "text": [
      "Primera vez 33.77588391304016\n",
      "Tiempo utilizado [GPU]: 26.481359004974365\n",
      "Tiempo utilizado [GPU]: 26.51542639732361\n",
      "Tiempo utilizado [GPU]: 26.127792358398438\n",
      "Tiempo utilizado [GPU]: 27.045628309249878\n",
      "Tiempo utilizado [GPU]: 26.597219705581665\n",
      "Precisión [GPU] 78.34117797736259\n",
      "Tiempo utilizado [CPU]: 39.32603406906128\n",
      "Tiempo utilizado [CPU]: 38.91243386268616\n",
      "Tiempo utilizado [CPU]: 38.41898703575134\n",
      "Tiempo utilizado [CPU]: 38.815343379974365\n",
      "Tiempo utilizado [CPU]: 38.83736610412598\n",
      "Precisión [CPU] 78.34097785889247\n"
     ]
    }
   ],
   "source": [
    "eval_model(rdd, repeats=5, max_depth=7, seed=0)"
   ]
  },
  {
   "cell_type": "code",
   "execution_count": 38,
   "metadata": {},
   "outputs": [
    {
     "name": "stdout",
     "output_type": "stream",
     "text": [
      "Primera vez 34.78399896621704\n",
      "Tiempo utilizado [GPU]: 27.087666749954224\n",
      "Tiempo utilizado [GPU]: 26.65226984024048\n",
      "Tiempo utilizado [GPU]: 26.5992214679718\n",
      "Tiempo utilizado [GPU]: 26.168829441070557\n",
      "Tiempo utilizado [GPU]: 26.688302516937256\n",
      "Precisión [GPU] 78.38916316291878\n",
      "Tiempo utilizado [CPU]: 38.54008412361145\n",
      "Tiempo utilizado [CPU]: 38.753289461135864\n",
      "Tiempo utilizado [CPU]: 38.393962383270264\n",
      "Tiempo utilizado [CPU]: 38.41998624801636\n",
      "Tiempo utilizado [CPU]: 38.219804525375366\n",
      "Precisión [CPU] 78.38816256856573\n"
     ]
    }
   ],
   "source": [
    "eval_model(rdd, repeats=5, max_depth=7, seed=1)"
   ]
  },
  {
   "cell_type": "code",
   "execution_count": 39,
   "metadata": {},
   "outputs": [
    {
     "name": "stdout",
     "output_type": "stream",
     "text": [
      "Primera vez 36.547587871551514\n",
      "Tiempo utilizado [GPU]: 26.280932188034058\n",
      "Tiempo utilizado [GPU]: 26.506136417388916\n",
      "Tiempo utilizado [GPU]: 26.797402381896973\n",
      "Tiempo utilizado [GPU]: 26.30647039413452\n",
      "Tiempo utilizado [GPU]: 26.350995540618896\n",
      "Precisión [GPU] 78.379627776666\n",
      "Tiempo utilizado [CPU]: 39.00795531272888\n",
      "Tiempo utilizado [CPU]: 38.2509925365448\n",
      "Tiempo utilizado [CPU]: 38.28602409362793\n",
      "Tiempo utilizado [CPU]: 39.277931690216064\n",
      "Tiempo utilizado [CPU]: 38.385072231292725\n",
      "Precisión [CPU] 78.379627776666\n"
     ]
    }
   ],
   "source": [
    "eval_model(rdd, repeats=5, max_depth=7, seed=2)"
   ]
  },
  {
   "cell_type": "code",
   "execution_count": 40,
   "metadata": {},
   "outputs": [
    {
     "name": "stdout",
     "output_type": "stream",
     "text": [
      "Primera vez 33.40709352493286\n",
      "Tiempo utilizado [GPU]: 26.500242710113525\n",
      "Tiempo utilizado [GPU]: 26.453199863433838\n",
      "Tiempo utilizado [GPU]: 26.576570987701416\n",
      "Tiempo utilizado [GPU]: 26.574310541152954\n",
      "Tiempo utilizado [GPU]: 26.720970630645752\n",
      "Precisión [GPU] 78.33947372107497\n",
      "Tiempo utilizado [CPU]: 38.32201862335205\n",
      "Tiempo utilizado [CPU]: 38.0387966632843\n",
      "Tiempo utilizado [CPU]: 38.34207630157471\n",
      "Tiempo utilizado [CPU]: 38.615325689315796\n",
      "Tiempo utilizado [CPU]: 38.56828188896179\n",
      "Precisión [CPU] 78.33967384234846\n"
     ]
    }
   ],
   "source": [
    "eval_model(rdd, repeats=5, max_depth=7, seed=3)"
   ]
  },
  {
   "cell_type": "code",
   "execution_count": 41,
   "metadata": {},
   "outputs": [
    {
     "name": "stdout",
     "output_type": "stream",
     "text": [
      "Primera vez 33.01846647262573\n",
      "Tiempo utilizado [GPU]: 26.451197385787964\n",
      "Tiempo utilizado [GPU]: 26.47622060775757\n",
      "Tiempo utilizado [GPU]: 26.62135148048401\n",
      "Tiempo utilizado [GPU]: 25.83535885810852\n",
      "Tiempo utilizado [GPU]: 26.282042503356934\n",
      "Precisión [GPU] 78.15925857082611\n",
      "Tiempo utilizado [CPU]: 38.33716797828674\n",
      "Tiempo utilizado [CPU]: 39.00161027908325\n",
      "Tiempo utilizado [CPU]: 37.92865324020386\n",
      "Tiempo utilizado [CPU]: 38.267961502075195\n",
      "Tiempo utilizado [CPU]: 37.927649974823\n",
      "Precisión [CPU] 78.15925857082611\n"
     ]
    }
   ],
   "source": [
    "eval_model(rdd, repeats=5, max_depth=7, seed=4)"
   ]
  },
  {
   "cell_type": "code",
   "execution_count": 42,
   "metadata": {},
   "outputs": [
    {
     "name": "stdout",
     "output_type": "stream",
     "text": [
      "Primera vez 33.31065130233765\n",
      "Tiempo utilizado [GPU]: 26.51021957397461\n",
      "Tiempo utilizado [GPU]: 26.47919201850891\n",
      "Tiempo utilizado [GPU]: 26.58328628540039\n",
      "Tiempo utilizado [GPU]: 26.143885850906372\n",
      "Tiempo utilizado [GPU]: 26.44616150856018\n",
      "Precisión [GPU] 78.25676796546314\n",
      "Tiempo utilizado [CPU]: 38.76975083351135\n",
      "Tiempo utilizado [CPU]: 38.28998160362244\n",
      "Tiempo utilizado [CPU]: 38.44712567329407\n",
      "Tiempo utilizado [CPU]: 38.227925300598145\n",
      "Tiempo utilizado [CPU]: 38.19889807701111\n",
      "Precisión [CPU] 78.30413622872675\n"
     ]
    }
   ],
   "source": [
    "eval_model(rdd, repeats=5, max_depth=7, seed=5)"
   ]
  },
  {
   "cell_type": "code",
   "execution_count": 43,
   "metadata": {},
   "outputs": [
    {
     "name": "stdout",
     "output_type": "stream",
     "text": [
      "Primera vez 33.351295709609985\n",
      "Tiempo utilizado [GPU]: 26.610120058059692\n",
      "Tiempo utilizado [GPU]: 26.102848052978516\n",
      "Tiempo utilizado [GPU]: 26.18950128555298\n",
      "Tiempo utilizado [GPU]: 26.37209439277649\n",
      "Tiempo utilizado [GPU]: 26.217935800552368\n",
      "Precisión [GPU] 78.31391281754043\n",
      "Tiempo utilizado [CPU]: 38.66625499725342\n",
      "Tiempo utilizado [CPU]: 37.662360191345215\n",
      "Tiempo utilizado [CPU]: 38.12079429626465\n",
      "Tiempo utilizado [CPU]: 38.1718385219574\n",
      "Tiempo utilizado [CPU]: 38.112786054611206\n",
      "Precisión [CPU] 78.31391281754043\n"
     ]
    }
   ],
   "source": [
    "eval_model(rdd, repeats=5, max_depth=7, seed=6)"
   ]
  },
  {
   "cell_type": "code",
   "execution_count": 44,
   "metadata": {},
   "outputs": [
    {
     "name": "stdout",
     "output_type": "stream",
     "text": [
      "Primera vez 33.58285427093506\n",
      "Tiempo utilizado [GPU]: 26.94558548927307\n",
      "Tiempo utilizado [GPU]: 26.892544746398926\n",
      "Tiempo utilizado [GPU]: 26.80246329307556\n",
      "Tiempo utilizado [GPU]: 26.363062381744385\n",
      "Tiempo utilizado [GPU]: 26.203916311264038\n",
      "Precisión [GPU] 78.45938912806245\n",
      "Tiempo utilizado [CPU]: 38.54613184928894\n",
      "Tiempo utilizado [CPU]: 38.05373167991638\n",
      "Tiempo utilizado [CPU]: 37.90460419654846\n",
      "Tiempo utilizado [CPU]: 38.13079571723938\n",
      "Tiempo utilizado [CPU]: 39.21379733085632\n",
      "Precisión [CPU] 78.45938912806245\n"
     ]
    }
   ],
   "source": [
    "eval_model(rdd, repeats=5, max_depth=7, seed=7)"
   ]
  },
  {
   "cell_type": "code",
   "execution_count": 45,
   "metadata": {},
   "outputs": [
    {
     "name": "stdout",
     "output_type": "stream",
     "text": [
      "Primera vez 33.384175300598145\n",
      "Tiempo utilizado [GPU]: 26.32265591621399\n",
      "Tiempo utilizado [GPU]: 26.444136142730713\n",
      "Tiempo utilizado [GPU]: 25.749345064163208\n",
      "Tiempo utilizado [GPU]: 26.81447434425354\n",
      "Tiempo utilizado [GPU]: 26.17615270614624\n",
      "Precisión [GPU] 78.30713847396204\n",
      "Tiempo utilizado [CPU]: 38.254995346069336\n",
      "Tiempo utilizado [CPU]: 38.16483235359192\n",
      "Tiempo utilizado [CPU]: 39.046637535095215\n",
      "Tiempo utilizado [CPU]: 37.92361354827881\n",
      "Tiempo utilizado [CPU]: 37.42594504356384\n",
      "Precisión [CPU] 78.30693858949527\n"
     ]
    }
   ],
   "source": [
    "eval_model(rdd, repeats=5, max_depth=7, seed=8)"
   ]
  },
  {
   "cell_type": "code",
   "execution_count": 46,
   "metadata": {},
   "outputs": [
    {
     "name": "stdout",
     "output_type": "stream",
     "text": [
      "Primera vez 33.45832276344299\n",
      "Tiempo utilizado [GPU]: 26.565246105194092\n",
      "Tiempo utilizado [GPU]: 26.37307119369507\n",
      "Tiempo utilizado [GPU]: 26.16615605354309\n",
      "Tiempo utilizado [GPU]: 26.11783790588379\n",
      "Tiempo utilizado [GPU]: 26.40061664581299\n",
      "Precisión [GPU] 78.32377221211698\n",
      "Tiempo utilizado [CPU]: 38.35611033439636\n",
      "Tiempo utilizado [CPU]: 38.02971315383911\n",
      "Tiempo utilizado [CPU]: 38.03671669960022\n",
      "Tiempo utilizado [CPU]: 38.43908333778381\n",
      "Tiempo utilizado [CPU]: 37.97866368293762\n",
      "Precisión [CPU] 78.32357232804974\n"
     ]
    }
   ],
   "source": [
    "eval_model(rdd, repeats=5, max_depth=7, seed=9)"
   ]
  },
  {
   "cell_type": "code",
   "execution_count": 47,
   "metadata": {},
   "outputs": [
    {
     "name": "stdout",
     "output_type": "stream",
     "text": [
      "Primera vez 33.91893744468689\n",
      "Tiempo utilizado [GPU]: 27.199798822402954\n",
      "Tiempo utilizado [GPU]: 26.910529136657715\n",
      "Tiempo utilizado [GPU]: 27.44202208518982\n",
      "Tiempo utilizado [GPU]: 27.548101902008057\n",
      "Tiempo utilizado [GPU]: 26.89051103591919\n",
      "Precisión [GPU] 78.73280982341547\n",
      "Tiempo utilizado [CPU]: 41.6099648475647\n",
      "Tiempo utilizado [CPU]: 42.12639904022217\n",
      "Tiempo utilizado [CPU]: 41.55787968635559\n",
      "Tiempo utilizado [CPU]: 41.108481645584106\n",
      "Tiempo utilizado [CPU]: 41.518842935562134\n",
      "Precisión [CPU] 78.7324095864752\n"
     ]
    }
   ],
   "source": [
    "eval_model(rdd, repeats=5, max_depth=8, seed=0)"
   ]
  },
  {
   "cell_type": "code",
   "execution_count": 48,
   "metadata": {},
   "outputs": [
    {
     "name": "stdout",
     "output_type": "stream",
     "text": [
      "Primera vez 34.2356333732605\n",
      "Tiempo utilizado [GPU]: 26.916056156158447\n",
      "Tiempo utilizado [GPU]: 27.322904586791992\n",
      "Tiempo utilizado [GPU]: 27.22681760787964\n",
      "Tiempo utilizado [GPU]: 27.65279746055603\n",
      "Tiempo utilizado [GPU]: 27.343924045562744\n",
      "Precisión [GPU] 78.70615145396366\n",
      "Tiempo utilizado [CPU]: 41.955493688583374\n",
      "Tiempo utilizado [CPU]: 40.90728712081909\n",
      "Tiempo utilizado [CPU]: 41.306660413742065\n",
      "Tiempo utilizado [CPU]: 41.02939963340759\n",
      "Tiempo utilizado [CPU]: 41.03741455078125\n",
      "Precisión [CPU] 78.70595133509305\n"
     ]
    }
   ],
   "source": [
    "eval_model(rdd, repeats=5, max_depth=8, seed=1)"
   ]
  },
  {
   "cell_type": "code",
   "execution_count": 49,
   "metadata": {},
   "outputs": [
    {
     "name": "stdout",
     "output_type": "stream",
     "text": [
      "Primera vez 34.66890215873718\n",
      "Tiempo utilizado [GPU]: 27.51108455657959\n",
      "Tiempo utilizado [GPU]: 27.56312394142151\n",
      "Tiempo utilizado [GPU]: 27.462023973464966\n",
      "Tiempo utilizado [GPU]: 27.382959604263306\n",
      "Tiempo utilizado [GPU]: 27.186789512634277\n",
      "Precisión [GPU] 78.56233740244146\n",
      "Tiempo utilizado [CPU]: 41.57373023033142\n",
      "Tiempo utilizado [CPU]: 41.47080087661743\n",
      "Tiempo utilizado [CPU]: 41.09946322441101\n",
      "Tiempo utilizado [CPU]: 41.62093687057495\n",
      "Tiempo utilizado [CPU]: 40.99236512184143\n",
      "Precisión [CPU] 78.56193716229738\n"
     ]
    }
   ],
   "source": [
    "eval_model(rdd, repeats=5, max_depth=8, seed=2)"
   ]
  },
  {
   "cell_type": "code",
   "execution_count": 50,
   "metadata": {},
   "outputs": [
    {
     "name": "stdout",
     "output_type": "stream",
     "text": [
      "Primera vez 34.051952838897705\n",
      "Tiempo utilizado [GPU]: 27.24983859062195\n",
      "Tiempo utilizado [GPU]: 27.536098957061768\n",
      "Tiempo utilizado [GPU]: 27.428001165390015\n",
      "Tiempo utilizado [GPU]: 27.101703643798828\n",
      "Tiempo utilizado [GPU]: 27.48405170440674\n",
      "Precisión [GPU] 78.5882244640252\n",
      "Tiempo utilizado [CPU]: 42.31508708000183\n",
      "Tiempo utilizado [CPU]: 42.182732820510864\n",
      "Tiempo utilizado [CPU]: 41.324647426605225\n",
      "Tiempo utilizado [CPU]: 41.17751336097717\n",
      "Tiempo utilizado [CPU]: 41.04539227485657\n",
      "Precisión [CPU] 78.5882244640252\n"
     ]
    }
   ],
   "source": [
    "eval_model(rdd, repeats=5, max_depth=8, seed=3)"
   ]
  },
  {
   "cell_type": "code",
   "execution_count": 51,
   "metadata": {},
   "outputs": [
    {
     "name": "stdout",
     "output_type": "stream",
     "text": [
      "Primera vez 37.99484205245972\n",
      "Tiempo utilizado [GPU]: 26.941535711288452\n",
      "Tiempo utilizado [GPU]: 27.10570216178894\n",
      "Tiempo utilizado [GPU]: 27.077667713165283\n",
      "Tiempo utilizado [GPU]: 27.213783740997314\n",
      "Tiempo utilizado [GPU]: 27.086675882339478\n",
      "Precisión [GPU] 78.67371799868486\n",
      "Tiempo utilizado [CPU]: 41.219236612319946\n",
      "Tiempo utilizado [CPU]: 42.35458540916443\n",
      "Tiempo utilizado [CPU]: 42.58779811859131\n",
      "Tiempo utilizado [CPU]: 40.982343435287476\n",
      "Tiempo utilizado [CPU]: 40.74111723899841\n",
      "Precisión [CPU] 78.67391786637246\n"
     ]
    }
   ],
   "source": [
    "eval_model(rdd, repeats=5, max_depth=8, seed=4)"
   ]
  },
  {
   "cell_type": "code",
   "execution_count": 52,
   "metadata": {},
   "outputs": [
    {
     "name": "stdout",
     "output_type": "stream",
     "text": [
      "Primera vez 34.634422063827515\n",
      "Tiempo utilizado [GPU]: 28.6666259765625\n",
      "Tiempo utilizado [GPU]: 27.62296152114868\n",
      "Tiempo utilizado [GPU]: 27.722503185272217\n",
      "Tiempo utilizado [GPU]: 27.629169940948486\n",
      "Tiempo utilizado [GPU]: 27.61415672302246\n",
      "Precisión [GPU] 78.60133710414023\n",
      "Tiempo utilizado [CPU]: 41.71893310546875\n",
      "Tiempo utilizado [CPU]: 41.803083181381226\n",
      "Tiempo utilizado [CPU]: 40.79016089439392\n",
      "Tiempo utilizado [CPU]: 41.58087968826294\n",
      "Tiempo utilizado [CPU]: 41.35067129135132\n",
      "Precisión [CPU] 78.60693335465238\n"
     ]
    }
   ],
   "source": [
    "eval_model(rdd, repeats=5, max_depth=8, seed=5)"
   ]
  },
  {
   "cell_type": "code",
   "execution_count": 53,
   "metadata": {},
   "outputs": [
    {
     "name": "stdout",
     "output_type": "stream",
     "text": [
      "Primera vez 34.611958265304565\n",
      "Tiempo utilizado [GPU]: 27.2572979927063\n",
      "Tiempo utilizado [GPU]: 27.0556480884552\n",
      "Tiempo utilizado [GPU]: 27.02862310409546\n",
      "Tiempo utilizado [GPU]: 27.09084987640381\n",
      "Tiempo utilizado [GPU]: 27.16473889350891\n",
      "Precisión [GPU] 78.69626046809105\n",
      "Tiempo utilizado [CPU]: 42.643991470336914\n",
      "Tiempo utilizado [CPU]: 41.316640853881836\n",
      "Tiempo utilizado [CPU]: 41.20645499229431\n",
      "Tiempo utilizado [CPU]: 42.17141890525818\n",
      "Tiempo utilizado [CPU]: 42.02628207206726\n",
      "Precisión [CPU] 78.69566086382987\n"
     ]
    }
   ],
   "source": [
    "eval_model(rdd, repeats=5, max_depth=8, seed=6)"
   ]
  },
  {
   "cell_type": "code",
   "execution_count": 54,
   "metadata": {},
   "outputs": [
    {
     "name": "stdout",
     "output_type": "stream",
     "text": [
      "Primera vez 34.05557179450989\n",
      "Tiempo utilizado [GPU]: 27.340901851654053\n",
      "Tiempo utilizado [GPU]: 27.266835927963257\n",
      "Tiempo utilizado [GPU]: 26.90950918197632\n",
      "Tiempo utilizado [GPU]: 27.256825923919678\n",
      "Tiempo utilizado [GPU]: 27.630165338516235\n",
      "Precisión [GPU] 78.79756322776386\n",
      "Tiempo utilizado [CPU]: 41.99938082695007\n",
      "Tiempo utilizado [CPU]: 42.37559676170349\n",
      "Tiempo utilizado [CPU]: 41.628262758255005\n",
      "Tiempo utilizado [CPU]: 41.59088182449341\n",
      "Tiempo utilizado [CPU]: 41.951210498809814\n",
      "Precisión [CPU] 78.79716349478548\n"
     ]
    }
   ],
   "source": [
    "eval_model(rdd, repeats=5, max_depth=8, seed=7)"
   ]
  },
  {
   "cell_type": "code",
   "execution_count": 55,
   "metadata": {},
   "outputs": [
    {
     "name": "stdout",
     "output_type": "stream",
     "text": [
      "Primera vez 36.03714466094971\n",
      "Tiempo utilizado [GPU]: 27.505051136016846\n",
      "Tiempo utilizado [GPU]: 27.16974687576294\n",
      "Tiempo utilizado [GPU]: 27.364522695541382\n",
      "Tiempo utilizado [GPU]: 27.45302128791809\n",
      "Tiempo utilizado [GPU]: 27.483803749084473\n",
      "Precisión [GPU] 78.57038631670893\n",
      "Tiempo utilizado [CPU]: 42.1048698425293\n",
      "Tiempo utilizado [CPU]: 41.85811686515808\n",
      "Tiempo utilizado [CPU]: 41.88314747810364\n",
      "Tiempo utilizado [CPU]: 42.302273988723755\n",
      "Tiempo utilizado [CPU]: 40.57595682144165\n",
      "Precisión [CPU] 78.56998654777539\n"
     ]
    }
   ],
   "source": [
    "eval_model(rdd, repeats=5, max_depth=8, seed=8)"
   ]
  },
  {
   "cell_type": "code",
   "execution_count": 56,
   "metadata": {},
   "outputs": [
    {
     "name": "stdout",
     "output_type": "stream",
     "text": [
      "Primera vez 34.3440899848938\n",
      "Tiempo utilizado [GPU]: 27.67720913887024\n",
      "Tiempo utilizado [GPU]: 27.51907253265381\n",
      "Tiempo utilizado [GPU]: 27.319875240325928\n",
      "Tiempo utilizado [GPU]: 27.46101999282837\n",
      "Tiempo utilizado [GPU]: 27.229793548583984\n",
      "Precisión [GPU] 78.73973095604549\n",
      "Tiempo utilizado [CPU]: 42.652461528778076\n",
      "Tiempo utilizado [CPU]: 43.047208309173584\n",
      "Tiempo utilizado [CPU]: 43.344478368759155\n",
      "Tiempo utilizado [CPU]: 42.38661217689514\n",
      "Tiempo utilizado [CPU]: 42.41360640525818\n",
      "Precisión [CPU] 78.73973095604549\n"
     ]
    }
   ],
   "source": [
    "eval_model(rdd, repeats=5, max_depth=8, seed=9)"
   ]
  },
  {
   "cell_type": "code",
   "execution_count": 6,
   "metadata": {},
   "outputs": [
    {
     "name": "stdout",
     "output_type": "stream",
     "text": [
      "Primera vez 111.21714162826538\n",
      "Tiempo utilizado [GPU]: 29.90855622291565\n",
      "Tiempo utilizado [GPU]: 29.520558834075928\n",
      "Tiempo utilizado [GPU]: 29.635642290115356\n",
      "Tiempo utilizado [GPU]: 29.71027159690857\n",
      "Tiempo utilizado [GPU]: 29.703112363815308\n",
      "Precisión [GPU] 79.02658373757264\n",
      "Tiempo utilizado [CPU]: 45.80850267410278\n",
      "Tiempo utilizado [CPU]: 45.27508330345154\n",
      "Tiempo utilizado [CPU]: 44.61044931411743\n",
      "Tiempo utilizado [CPU]: 45.67246055603027\n",
      "Tiempo utilizado [CPU]: 45.66445326805115\n",
      "Precisión [CPU] 79.02658373757264\n"
     ]
    }
   ],
   "source": [
    "eval_model(rdd, repeats=5, max_depth=9, seed=0)"
   ]
  },
  {
   "cell_type": "code",
   "execution_count": 6,
   "metadata": {},
   "outputs": [
    {
     "name": "stdout",
     "output_type": "stream",
     "text": [
      "Primera vez 111.50152087211609\n",
      "Tiempo utilizado [GPU]: 30.229514598846436\n",
      "Tiempo utilizado [GPU]: 29.750093936920166\n",
      "Tiempo utilizado [GPU]: 30.04035973548889\n",
      "Tiempo utilizado [GPU]: 30.37766718864441\n",
      "Tiempo utilizado [GPU]: 30.047366619110107\n",
      "Precisión [GPU] 79.09037968553321\n",
      "Tiempo utilizado [CPU]: 46.757750272750854\n",
      "Tiempo utilizado [CPU]: 46.870697021484375\n",
      "Tiempo utilizado [CPU]: 45.72064924240112\n",
      "Tiempo utilizado [CPU]: 46.36121582984924\n",
      "Tiempo utilizado [CPU]: 46.9285774230957\n",
      "Precisión [CPU] 79.08977932892138\n"
     ]
    }
   ],
   "source": [
    "eval_model(rdd, repeats=5, max_depth=9, seed=1)"
   ]
  },
  {
   "cell_type": "code",
   "execution_count": 9,
   "metadata": {},
   "outputs": [
    {
     "name": "stdout",
     "output_type": "stream",
     "text": [
      "Primera vez 60.69128918647766\n",
      "Tiempo utilizado [GPU]: 46.34767770767212\n",
      "Tiempo utilizado [GPU]: 30.189589738845825\n",
      "Tiempo utilizado [GPU]: 29.14372444152832\n",
      "Tiempo utilizado [GPU]: 28.884397506713867\n",
      "Tiempo utilizado [GPU]: 29.564018726348877\n",
      "Precisión [GPU] 78.98899339603761\n",
      "Tiempo utilizado [CPU]: 46.035539627075195\n",
      "Tiempo utilizado [CPU]: 44.78847932815552\n",
      "Tiempo utilizado [CPU]: 44.03122901916504\n",
      "Tiempo utilizado [CPU]: 44.32142186164856\n",
      "Tiempo utilizado [CPU]: 44.72077751159668\n",
      "Precisión [CPU] 78.98959375625375\n"
     ]
    }
   ],
   "source": [
    "eval_model(rdd, repeats=5, max_depth=9, seed=2)"
   ]
  },
  {
   "cell_type": "code",
   "execution_count": 10,
   "metadata": {},
   "outputs": [
    {
     "name": "stdout",
     "output_type": "stream",
     "text": [
      "Primera vez 40.852370500564575\n",
      "Tiempo utilizado [GPU]: 28.953405380249023\n",
      "Tiempo utilizado [GPU]: 29.189621210098267\n",
      "Tiempo utilizado [GPU]: 28.87287974357605\n",
      "Tiempo utilizado [GPU]: 28.99344229698181\n",
      "Tiempo utilizado [GPU]: 29.04348850250244\n",
      "Precisión [GPU] 78.98146276643647\n",
      "Tiempo utilizado [CPU]: 45.43410921096802\n",
      "Tiempo utilizado [CPU]: 44.56764268875122\n",
      "Tiempo utilizado [CPU]: 43.870009660720825\n",
      "Tiempo utilizado [CPU]: 44.04117465019226\n",
      "Tiempo utilizado [CPU]: 44.30139398574829\n",
      "Precisión [CPU] 78.98306373662439\n"
     ]
    }
   ],
   "source": [
    "eval_model(rdd, repeats=5, max_depth=9, seed=3)"
   ]
  },
  {
   "cell_type": "code",
   "execution_count": 7,
   "metadata": {},
   "outputs": [
    {
     "name": "stdout",
     "output_type": "stream",
     "text": [
      "Primera vez 40.21311593055725\n",
      "Tiempo utilizado [GPU]: 30.089404582977295\n",
      "Tiempo utilizado [GPU]: 30.49177074432373\n",
      "Tiempo utilizado [GPU]: 30.10441827774048\n",
      "Tiempo utilizado [GPU]: 30.337631225585938\n",
      "Tiempo utilizado [GPU]: 30.14945960044861\n",
      "Precisión [GPU] 79.07505231536722\n",
      "Tiempo utilizado [CPU]: 46.03891897201538\n",
      "Tiempo utilizado [CPU]: 45.95185351371765\n",
      "Tiempo utilizado [CPU]: 45.76467943191528\n",
      "Tiempo utilizado [CPU]: 45.440385818481445\n",
      "Tiempo utilizado [CPU]: 45.93783903121948\n",
      "Precisión [CPU] 79.07445271230445\n"
     ]
    }
   ],
   "source": [
    "eval_model(rdd, repeats=5, max_depth=9, seed=4)"
   ]
  },
  {
   "cell_type": "code",
   "execution_count": 8,
   "metadata": {},
   "outputs": [
    {
     "name": "stdout",
     "output_type": "stream",
     "text": [
      "Primera vez 37.24574565887451\n",
      "Tiempo utilizado [GPU]: 29.758102416992188\n",
      "Tiempo utilizado [GPU]: 29.91024136543274\n",
      "Tiempo utilizado [GPU]: 30.367730855941772\n",
      "Tiempo utilizado [GPU]: 30.017338752746582\n",
      "Tiempo utilizado [GPU]: 30.20851182937622\n",
      "Precisión [GPU] 78.9598968690977\n",
      "Tiempo utilizado [CPU]: 45.8075385093689\n",
      "Tiempo utilizado [CPU]: 45.47239065170288\n",
      "Tiempo utilizado [CPU]: 45.984872579574585\n",
      "Tiempo utilizado [CPU]: 45.97987675666809\n",
      "Tiempo utilizado [CPU]: 46.27014231681824\n",
      "Precisión [CPU] 78.96129593172574\n"
     ]
    }
   ],
   "source": [
    "eval_model(rdd, repeats=5, max_depth=9, seed=5)"
   ]
  },
  {
   "cell_type": "code",
   "execution_count": 9,
   "metadata": {},
   "outputs": [
    {
     "name": "stdout",
     "output_type": "stream",
     "text": [
      "Primera vez 39.85251832008362\n",
      "Tiempo utilizado [GPU]: 30.235538959503174\n",
      "Tiempo utilizado [GPU]: 30.156464338302612\n",
      "Tiempo utilizado [GPU]: 30.01733899116516\n",
      "Tiempo utilizado [GPU]: 30.632899045944214\n",
      "Tiempo utilizado [GPU]: 30.30860424041748\n",
      "Precisión [GPU] 78.99126576459537\n",
      "Tiempo utilizado [CPU]: 45.73592257499695\n",
      "Tiempo utilizado [CPU]: 45.75860571861267\n",
      "Tiempo utilizado [CPU]: 45.69753432273865\n",
      "Tiempo utilizado [CPU]: 45.847678661346436\n",
      "Tiempo utilizado [CPU]: 45.862693071365356\n",
      "Precisión [CPU] 78.99086602842125\n"
     ]
    }
   ],
   "source": [
    "eval_model(rdd, repeats=5, max_depth=9, seed=6)"
   ]
  },
  {
   "cell_type": "code",
   "execution_count": 10,
   "metadata": {},
   "outputs": [
    {
     "name": "stdout",
     "output_type": "stream",
     "text": [
      "Primera vez 37.39288401603699\n",
      "Tiempo utilizado [GPU]: 30.31155514717102\n",
      "Tiempo utilizado [GPU]: 29.98525881767273\n",
      "Tiempo utilizado [GPU]: 30.21346640586853\n",
      "Tiempo utilizado [GPU]: 30.468698501586914\n",
      "Tiempo utilizado [GPU]: 30.267515897750854\n",
      "Precisión [GPU] 79.08357217378791\n",
      "Tiempo utilizado [CPU]: 45.62712526321411\n",
      "Tiempo utilizado [CPU]: 45.7615921497345\n",
      "Tiempo utilizado [CPU]: 45.59444880485535\n",
      "Tiempo utilizado [CPU]: 45.64549493789673\n",
      "Tiempo utilizado [CPU]: 45.77060890197754\n",
      "Precisión [CPU] 79.08217310836362\n"
     ]
    }
   ],
   "source": [
    "eval_model(rdd, repeats=5, max_depth=9, seed=7)"
   ]
  },
  {
   "cell_type": "code",
   "execution_count": 11,
   "metadata": {},
   "outputs": [
    {
     "name": "stdout",
     "output_type": "stream",
     "text": [
      "Primera vez 42.74025201797485\n",
      "Tiempo utilizado [GPU]: 30.2435085773468\n",
      "Tiempo utilizado [GPU]: 30.480724811553955\n",
      "Tiempo utilizado [GPU]: 30.14742088317871\n",
      "Tiempo utilizado [GPU]: 30.097376346588135\n",
      "Tiempo utilizado [GPU]: 30.550788402557373\n",
      "Precisión [GPU] 78.95316507058921\n",
      "Tiempo utilizado [CPU]: 45.908539056777954\n",
      "Tiempo utilizado [CPU]: 46.25706648826599\n",
      "Tiempo utilizado [CPU]: 45.94479036331177\n",
      "Tiempo utilizado [CPU]: 45.478365659713745\n",
      "Tiempo utilizado [CPU]: 45.46935796737671\n",
      "Precisión [CPU] 78.95296518612243\n"
     ]
    }
   ],
   "source": [
    "eval_model(rdd, repeats=5, max_depth=9, seed=8)"
   ]
  },
  {
   "cell_type": "code",
   "execution_count": 23,
   "metadata": {},
   "outputs": [
    {
     "name": "stdout",
     "output_type": "stream",
     "text": [
      "Primera vez 37.80021929740906\n",
      "Tiempo utilizado [GPU]: 30.01133394241333\n",
      "Tiempo utilizado [GPU]: 30.46737027168274\n",
      "Tiempo utilizado [GPU]: 30.390679121017456\n",
      "Tiempo utilizado [GPU]: 30.094409227371216\n",
      "Tiempo utilizado [GPU]: 29.813154458999634\n",
      "Precisión [GPU] 79.05594755042075\n",
      "Tiempo utilizado [CPU]: 49.75508713722229\n",
      "Tiempo utilizado [CPU]: 48.61627697944641\n",
      "Tiempo utilizado [CPU]: 48.26996397972107\n",
      "Tiempo utilizado [CPU]: 48.368051528930664\n",
      "Tiempo utilizado [CPU]: 46.86759638786316\n",
      "Precisión [CPU] 79.05494813008454\n"
     ]
    }
   ],
   "source": [
    "eval_model(rdd, repeats=5, max_depth=9, seed=9)"
   ]
  },
  {
   "cell_type": "code",
   "execution_count": 13,
   "metadata": {},
   "outputs": [
    {
     "name": "stdout",
     "output_type": "stream",
     "text": [
      "Primera vez 42.534680128097534\n",
      "Tiempo utilizado [GPU]: 34.62249970436096\n",
      "Tiempo utilizado [GPU]: 34.20612359046936\n",
      "Tiempo utilizado [GPU]: 33.66663408279419\n",
      "Tiempo utilizado [GPU]: 34.244195222854614\n",
      "Tiempo utilizado [GPU]: 33.741700649261475\n",
      "Precisión [GPU] 79.2525174903543\n",
      "Tiempo utilizado [CPU]: 48.79428458213806\n",
      "Tiempo utilizado [CPU]: 48.861457109451294\n",
      "Tiempo utilizado [CPU]: 48.556188344955444\n",
      "Tiempo utilizado [CPU]: 48.619229316711426\n",
      "Tiempo utilizado [CPU]: 48.713322162628174\n",
      "Precisión [CPU] 79.25391831964524\n"
     ]
    }
   ],
   "source": [
    "eval_model(rdd, repeats=5, max_depth=10, seed=0)"
   ]
  },
  {
   "cell_type": "code",
   "execution_count": 14,
   "metadata": {},
   "outputs": [
    {
     "name": "stdout",
     "output_type": "stream",
     "text": [
      "Primera vez 51.77150845527649\n",
      "Tiempo utilizado [GPU]: 33.927900314331055\n",
      "Tiempo utilizado [GPU]: 33.68167686462402\n",
      "Tiempo utilizado [GPU]: 33.312339544296265\n",
      "Tiempo utilizado [GPU]: 33.66766309738159\n",
      "Tiempo utilizado [GPU]: 33.54855537414551\n",
      "Precisión [GPU] 79.27869154277641\n",
      "Tiempo utilizado [CPU]: 48.1668016910553\n",
      "Tiempo utilizado [CPU]: 48.668317794799805\n",
      "Tiempo utilizado [CPU]: 48.6312940120697\n",
      "Tiempo utilizado [CPU]: 48.94457507133484\n",
      "Tiempo utilizado [CPU]: 49.31204175949097\n",
      "Precisión [CPU] 79.27969213712946\n"
     ]
    }
   ],
   "source": [
    "eval_model(rdd, repeats=5, max_depth=10, seed=1)"
   ]
  },
  {
   "cell_type": "code",
   "execution_count": 15,
   "metadata": {},
   "outputs": [
    {
     "name": "stdout",
     "output_type": "stream",
     "text": [
      "Primera vez 40.4588942527771\n",
      "Tiempo utilizado [GPU]: 33.255287885665894\n",
      "Tiempo utilizado [GPU]: 33.676671743392944\n",
      "Tiempo utilizado [GPU]: 33.2002375125885\n",
      "Tiempo utilizado [GPU]: 33.362385511398315\n",
      "Tiempo utilizado [GPU]: 33.58358860015869\n",
      "Precisión [GPU] 79.21833099859916\n",
      "Tiempo utilizado [CPU]: 48.54981708526611\n",
      "Tiempo utilizado [CPU]: 48.46013402938843\n",
      "Tiempo utilizado [CPU]: 48.54120945930481\n",
      "Tiempo utilizado [CPU]: 48.36304783821106\n",
      "Tiempo utilizado [CPU]: 48.20790648460388\n",
      "Precisión [CPU] 79.21392835701421\n"
     ]
    }
   ],
   "source": [
    "eval_model(rdd, repeats=5, max_depth=10, seed=2)"
   ]
  },
  {
   "cell_type": "code",
   "execution_count": 16,
   "metadata": {},
   "outputs": [
    {
     "name": "stdout",
     "output_type": "stream",
     "text": [
      "Primera vez 41.91169762611389\n",
      "Tiempo utilizado [GPU]: 33.472485303878784\n",
      "Tiempo utilizado [GPU]: 33.600602865219116\n",
      "Tiempo utilizado [GPU]: 33.93690848350525\n",
      "Tiempo utilizado [GPU]: 33.63263177871704\n",
      "Tiempo utilizado [GPU]: 33.69168519973755\n",
      "Precisión [GPU] 79.25122624310332\n",
      "Tiempo utilizado [CPU]: 48.101916790008545\n",
      "Tiempo utilizado [CPU]: 48.7854323387146\n",
      "Tiempo utilizado [CPU]: 48.60226798057556\n",
      "Tiempo utilizado [CPU]: 48.25194430351257\n",
      "Tiempo utilizado [CPU]: 48.7734215259552\n",
      "Precisión [CPU] 79.25262709201776\n"
     ]
    }
   ],
   "source": [
    "eval_model(rdd, repeats=5, max_depth=10, seed=3)"
   ]
  },
  {
   "cell_type": "code",
   "execution_count": 17,
   "metadata": {},
   "outputs": [
    {
     "name": "stdout",
     "output_type": "stream",
     "text": [
      "Primera vez 40.91821360588074\n",
      "Tiempo utilizado [GPU]: 33.683678150177\n",
      "Tiempo utilizado [GPU]: 33.3874077796936\n",
      "Tiempo utilizado [GPU]: 33.38640737533569\n",
      "Tiempo utilizado [GPU]: 33.64164090156555\n",
      "Tiempo utilizado [GPU]: 33.5745792388916\n",
      "Precisión [GPU] 79.25913045563837\n",
      "Tiempo utilizado [CPU]: 48.60301184654236\n",
      "Tiempo utilizado [CPU]: 48.523191690444946\n",
      "Tiempo utilizado [CPU]: 48.384066581726074\n",
      "Tiempo utilizado [CPU]: 48.389071226119995\n",
      "Tiempo utilizado [CPU]: 48.74639821052551\n",
      "Precisión [CPU] 79.25973005870114\n"
     ]
    }
   ],
   "source": [
    "eval_model(rdd, repeats=5, max_depth=10, seed=4)"
   ]
  },
  {
   "cell_type": "code",
   "execution_count": 18,
   "metadata": {},
   "outputs": [
    {
     "name": "stdout",
     "output_type": "stream",
     "text": [
      "Primera vez 40.288241386413574\n",
      "Tiempo utilizado [GPU]: 33.214242458343506\n",
      "Tiempo utilizado [GPU]: 33.1391818523407\n",
      "Tiempo utilizado [GPU]: 33.4624764919281\n",
      "Tiempo utilizado [GPU]: 33.67767286300659\n",
      "Tiempo utilizado [GPU]: 33.80478835105896\n",
      "Precisión [GPU] 79.19793738195409\n",
      "Tiempo utilizado [CPU]: 49.06868815422058\n",
      "Tiempo utilizado [CPU]: 48.95858931541443\n",
      "Tiempo utilizado [CPU]: 48.57524371147156\n",
      "Tiempo utilizado [CPU]: 48.53019738197327\n",
      "Tiempo utilizado [CPU]: 48.831475019454956\n",
      "Precisión [CPU] 79.1981372480438\n"
     ]
    }
   ],
   "source": [
    "eval_model(rdd, repeats=5, max_depth=10, seed=5)"
   ]
  },
  {
   "cell_type": "code",
   "execution_count": 19,
   "metadata": {},
   "outputs": [
    {
     "name": "stdout",
     "output_type": "stream",
     "text": [
      "Primera vez 40.94629240036011\n",
      "Tiempo utilizado [GPU]: 33.46848177909851\n",
      "Tiempo utilizado [GPU]: 33.12516975402832\n",
      "Tiempo utilizado [GPU]: 33.440457820892334\n",
      "Tiempo utilizado [GPU]: 33.28731608390808\n",
      "Tiempo utilizado [GPU]: 33.74773669242859\n",
      "Precisión [GPU] 79.20272620070753\n",
      "Tiempo utilizado [CPU]: 48.65431618690491\n",
      "Tiempo utilizado [CPU]: 48.78943753242493\n",
      "Tiempo utilizado [CPU]: 48.619279623031616\n",
      "Tiempo utilizado [CPU]: 48.52719736099243\n",
      "Tiempo utilizado [CPU]: 48.833476066589355\n",
      "Precisión [CPU] 79.20352567305578\n"
     ]
    }
   ],
   "source": [
    "eval_model(rdd, repeats=5, max_depth=10, seed=6)"
   ]
  },
  {
   "cell_type": "code",
   "execution_count": 20,
   "metadata": {},
   "outputs": [
    {
     "name": "stdout",
     "output_type": "stream",
     "text": [
      "Primera vez 41.12954592704773\n",
      "Tiempo utilizado [GPU]: 33.569573640823364\n",
      "Tiempo utilizado [GPU]: 33.8348183631897\n",
      "Tiempo utilizado [GPU]: 33.66165518760681\n",
      "Tiempo utilizado [GPU]: 33.84526062011719\n",
      "Tiempo utilizado [GPU]: 34.01898264884949\n",
      "Precisión [GPU] 79.29822878317285\n",
      "Tiempo utilizado [CPU]: 48.786648750305176\n",
      "Tiempo utilizado [CPU]: 48.58725094795227\n",
      "Tiempo utilizado [CPU]: 49.30290389060974\n",
      "Tiempo utilizado [CPU]: 48.96859860420227\n",
      "Tiempo utilizado [CPU]: 48.61928129196167\n",
      "Precisión [CPU] 79.29942798210796\n"
     ]
    }
   ],
   "source": [
    "eval_model(rdd, repeats=5, max_depth=10, seed=7)"
   ]
  },
  {
   "cell_type": "code",
   "execution_count": 21,
   "metadata": {},
   "outputs": [
    {
     "name": "stdout",
     "output_type": "stream",
     "text": [
      "Primera vez 41.15239143371582\n",
      "Tiempo utilizado [GPU]: 33.60360550880432\n",
      "Tiempo utilizado [GPU]: 33.48549795150757\n",
      "Tiempo utilizado [GPU]: 33.545552253723145\n",
      "Tiempo utilizado [GPU]: 33.453468322753906\n",
      "Tiempo utilizado [GPU]: 33.32535147666931\n",
      "Precisión [GPU] 79.20801776573141\n",
      "Tiempo utilizado [CPU]: 48.39300584793091\n",
      "Tiempo utilizado [CPU]: 48.6423020362854\n",
      "Tiempo utilizado [CPU]: 48.458133935928345\n",
      "Tiempo utilizado [CPU]: 48.75340533256531\n",
      "Tiempo utilizado [CPU]: 48.67733192443848\n",
      "Precisión [CPU] 79.20661857446396\n"
     ]
    }
   ],
   "source": [
    "eval_model(rdd, repeats=5, max_depth=10, seed=8)"
   ]
  },
  {
   "cell_type": "code",
   "execution_count": 22,
   "metadata": {},
   "outputs": [
    {
     "name": "stdout",
     "output_type": "stream",
     "text": [
      "Primera vez 40.50474429130554\n",
      "Tiempo utilizado [GPU]: 33.562567710876465\n",
      "Tiempo utilizado [GPU]: 33.83281350135803\n",
      "Tiempo utilizado [GPU]: 33.55856442451477\n",
      "Tiempo utilizado [GPU]: 33.68968391418457\n",
      "Tiempo utilizado [GPU]: 33.43845319747925\n",
      "Precisión [GPU] 79.3691658837874\n",
      "Tiempo utilizado [CPU]: 48.70733022689819\n",
      "Tiempo utilizado [CPU]: 48.620280265808105\n",
      "Tiempo utilizado [CPU]: 48.2038893699646\n",
      "Tiempo utilizado [CPU]: 49.148762941360474\n",
      "Tiempo utilizado [CPU]: 49.35395002365112\n",
      "Precisión [CPU] 79.37376321733394\n"
     ]
    }
   ],
   "source": [
    "eval_model(rdd, repeats=5, max_depth=10, seed=9)"
   ]
  },
  {
   "cell_type": "code",
   "execution_count": null,
   "metadata": {},
   "outputs": [],
   "source": []
  },
  {
   "cell_type": "code",
   "execution_count": null,
   "metadata": {},
   "outputs": [],
   "source": []
  },
  {
   "cell_type": "code",
   "execution_count": null,
   "metadata": {},
   "outputs": [],
   "source": []
  }
 ],
 "metadata": {
  "kernelspec": {
   "display_name": "Python 3",
   "language": "python",
   "name": "python3"
  },
  "language_info": {
   "codemirror_mode": {
    "name": "ipython",
    "version": 3
   },
   "file_extension": ".py",
   "mimetype": "text/x-python",
   "name": "python",
   "nbconvert_exporter": "python",
   "pygments_lexer": "ipython3",
   "version": "3.6.8"
  }
 },
 "nbformat": 4,
 "nbformat_minor": 2
}
