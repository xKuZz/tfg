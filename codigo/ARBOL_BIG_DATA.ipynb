{
 "cells": [
  {
   "cell_type": "code",
   "execution_count": 1,
   "metadata": {},
   "outputs": [],
   "source": [
    "import decisiontree_gpu as dtree\n",
    "import numpy as np\n",
    "import time\n",
    "\n",
    "from pyspark.sql import SparkSession\n",
    "spark = SparkSession.builder.master(\"local\").appName(\"DTREE-SUSY\").config(\"spark.executor.memory\", \"8gb\").getOrCreate()\n",
    "sc = spark.sparkContext"
   ]
  },
  {
   "cell_type": "code",
   "execution_count": 2,
   "metadata": {},
   "outputs": [],
   "source": [
    "# 1. Leemos el dataset\n",
    "rdd = sc.textFile('../datasets/SUSY.csv')\n",
    "def append_ret(a,b):\n",
    "    a.append(b)\n",
    "    return a\n",
    "# 2. Separamos y ponemos la etiqueta al final en vez de al principio\n",
    "rdd = rdd.map(lambda line: line.split(','))\n",
    "rdd = rdd.map(lambda line: append_ret(line[1:], line[0]))\n",
    "# 3. Subdividimos el RDD en Split de Training (90 %) y Split de Test (10 %)\n",
    "(trainingData, testData) = rdd.randomSplit([0.9, 0.1], seed=35)"
   ]
  },
  {
   "cell_type": "code",
   "execution_count": 3,
   "metadata": {},
   "outputs": [],
   "source": [
    "# 4. Damos el número de particiones deseadas en el RDD para trabajar con el modelo\n",
    "trainingData = trainingData.repartition(225)"
   ]
  },
  {
   "cell_type": "code",
   "execution_count": 4,
   "metadata": {
    "scrolled": true
   },
   "outputs": [],
   "source": [
    "def gpu_work(max_depth=6, min_samples_per_node=1, tpb=128):\n",
    "    def _gpu_work(data):\n",
    "        # 1. Procesamos el dataset\n",
    "        inp = np.asarray(list(data), dtype=np.float32)\n",
    "        return [dtree.train_tree(inp, max_depth, min_samples_per_node, tpb)]    \n",
    "    return _gpu_work"
   ]
  },
  {
   "cell_type": "code",
   "execution_count": 5,
   "metadata": {},
   "outputs": [],
   "source": [
    "# 5. Ejecutamos el modelo sobre cada una de las particiones\n",
    "inicio = time.time()\n",
    "arboles = trainingData.mapPartitions(gpu_work(max_depth=7))\n",
    "arboles = arboles.collect()\n",
    "fin = time.time()\n",
    "print('Tiempo utilizado:' fin-inicio)"
   ]
  },
  {
   "cell_type": "code",
   "execution_count": null,
   "metadata": {},
   "outputs": [],
   "source": []
  },
  {
   "cell_type": "code",
   "execution_count": 6,
   "metadata": {},
   "outputs": [],
   "source": [
    "def predict(sample, trees):\n",
    "    counter = 0\n",
    "    for tree in trees:\n",
    "        counter += dtree.predict(sample, tree)\n",
    "    \n",
    "    return 1 if counter > len(trees) / 2 else 0\n",
    "\n",
    "def evaluar(dataset, trees):\n",
    "    aciertos = 0\n",
    "    for sample in dataset:\n",
    "        etiqueta = predict(sample, trees)\n",
    "        if int(etiqueta) == int(sample[-1]):\n",
    "            aciertos += 1\n",
    "        \n",
    "    return aciertos / dataset.shape[0]\n"
   ]
  },
  {
   "cell_type": "code",
   "execution_count": 7,
   "metadata": {},
   "outputs": [],
   "source": [
    "test = np.float32(testData.collect())"
   ]
  },
  {
   "cell_type": "code",
   "execution_count": 8,
   "metadata": {},
   "outputs": [
    {
     "data": {
      "text/plain": [
       "0.7873251236156349"
      ]
     },
     "execution_count": 8,
     "metadata": {},
     "output_type": "execute_result"
    }
   ],
   "source": [
    "evaluar(test, arboles)"
   ]
  },
  {
   "cell_type": "code",
   "execution_count": null,
   "metadata": {},
   "outputs": [],
   "source": [
    "\"\"\"\n",
    "PENDIENTE: EVALUAR SPARK\n",
    "VALIDACIÓN CRUZADA\n",
    "\"\"\""
   ]
  }
 ],
 "metadata": {
  "kernelspec": {
   "display_name": "Python 3",
   "language": "python",
   "name": "python3"
  },
  "language_info": {
   "codemirror_mode": {
    "name": "ipython",
    "version": 3
   },
   "file_extension": ".py",
   "mimetype": "text/x-python",
   "name": "python",
   "nbconvert_exporter": "python",
   "pygments_lexer": "ipython3",
   "version": "3.6.8"
  }
 },
 "nbformat": 4,
 "nbformat_minor": 2
}
